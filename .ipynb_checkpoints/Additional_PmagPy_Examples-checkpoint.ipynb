{
 "cells": [
  {
   "cell_type": "markdown",
   "metadata": {},
   "source": [
    "# Jupyter notebook demonstrating the use of additional PmagPy functions"
   ]
  },
  {
   "cell_type": "markdown",
   "metadata": {},
   "source": [
    "To dos:\n",
    "\n",
    "### ipmag functions to be made:\n",
    "\n",
    "- ipmag.bootstrap_reversal_test (wrapper function that finds the 2 modes to the data and then applies ipmag.bootstrap_common_mean)\n",
    "- ipmag.MM1990_reversal_test (wrapper function that finds the 2 modes to the data and then applies ipmag.watson_common_mean()\n",
    "- ipmag.find_EI()\n",
    "- ipmag.demag_magic()\n",
    "\n",
    "### make it so that plots can optionally be saved out of \n",
    "\n",
    "- ipmag.bootstrap_fold_test\n",
    "- ipmag.bootstrap_common_mean\n",
    "- ipmag.watson_common_mean\n",
    "\n",
    "### update ipmag.vgp_calc and ipmag.sb_vgp_calc so that column fields can be specified\n",
    "\n",
    "### update function comments for aniso_depthplot and for new ones in notebook to match the style of the others\n",
    "\n",
    "### ipmag/pmag functions that already exist that should be demonstrated:\n",
    "\n",
    "- ~~ipmag.fishqq~~\n",
    "- ipmag.squish (grab data out of a Fisher distribution. Squish it and plot it and then apply ipmag.find_EI) \n",
    "- ipmag.igrf (pull it out and plot it for a given location, use the pmag.pinc function to show the GAD inclination at specified (paleo) latitude)\n",
    "- ipmag.vgp_calc (use this on some directional data and then plot using: ipmag.plot_pole\n",
    "- ipmag.plot_vgp\n",
    "- ipmag.sb_vgp_calc\n",
    "- ipmag.download_magic"
   ]
  },
  {
   "cell_type": "markdown",
   "metadata": {},
   "source": [
    "This Jupyter/IPython notebook demonstrates the use of a number of PmagPy functions within a notebook environment. The benefits of working within these notebooks include but are not limited to scientific reproducibility; coherent code development; convenient workspace for projects; and version control (when integrated with GitHub or other version control software).\n",
    "\n",
    "### Table of Contents\n",
    "**Miscellaneous**\n",
    "* [The Dipole Equation](#The-dipole-equation)\n",
    "* [Calculating the Angle Between Two Directions](#Angle-between-directions)\n",
    "* [Fisher-Distributed Directions](#Generate-and-plot-Fisher-distributed-unit-vectors-from-a-specified-distribution)\n",
    "* [Flip Directional Data](#Flip-polarity-of-directional-data)\n",
    "* [Plotting and Analyzing Anisotropy Data](#Working-with-anisotropy-data)\n",
    "\n",
    "**Using Matplotlib's Basemap Package**\n",
    "* [Working with Poles](#Working-with-poles)\n",
    "\n",
    "**Susceptibility Data Analysis**\n",
    "* [Example Susceptibility Data Analysis](#Susceptibility-vs.-temperature,-applied-field-and-frequency)\n",
    "* [Working with Curie Temperature Data](#Curie-temperature-data)\n",
    "\n",
    "**Hysteresis Data**\n",
    "* [Day Plots](#Day-plots)\n",
    "* [Hysteresis Loops](#Hysteresis-Loops)\n",
    "\n",
    "**Note: This notebook makes heavy use of pandas for reading, displaying, and using data. More information about the pandas module and its use within PmagPy can be found [here](http://earthref.org/PmagPy/cookbook/#x1-1850007.4) within the documentation of the [PmagPy cookbook](http://earthref.org/PmagPy/cookbook/).**"
   ]
  },
  {
   "cell_type": "code",
   "execution_count": 1,
   "metadata": {
    "collapsed": false
   },
   "outputs": [],
   "source": [
    "import sys, os\n",
    "#change to match where the PmagPy folder is on your computer\n",
    "sys.path.insert(0, '/Users/Laurentia/PmagPy')\n",
    "#sys.path.insert(0, '/Users/lukefairchild765/GitHub_files/PmagPy/')\n",
    "# USING FAIRCHILD FORK OF PMAGPY -- CONTINUAL PULL REQUESTS ARE MADE TO PMAGPY MASTER BUT MAY NOT BE UPDATED YET\n",
    "sys.path.insert(0, '/Users/lukefairchild765/GitHub_files/fairchild_PmagPy/')\n",
    "import pmag, pmagplotlib, ipmag, ipmagplotlib\n",
    "from mpl_toolkits.basemap import Basemap\n",
    "import numpy as np\n",
    "import pandas as pd\n",
    "import matplotlib.pyplot as plt\n",
    "%matplotlib inline\n",
    "from ipywidgets import interact"
   ]
  },
  {
   "cell_type": "markdown",
   "metadata": {
    "collapsed": true
   },
   "source": [
    "## The dipole equation"
   ]
  },
  {
   "cell_type": "code",
   "execution_count": 2,
   "metadata": {
    "collapsed": true
   },
   "outputs": [],
   "source": [
    "inclination = range(0,90,1)\n",
    "latitude = []\n",
    "for inc in inclination:\n",
    "    lat = ipmag.lat_from_inc(inc)\n",
    "    latitude.append(lat)"
   ]
  },
  {
   "cell_type": "code",
   "execution_count": 3,
   "metadata": {
    "collapsed": false
   },
   "outputs": [
    {
     "data": {
      "image/png": "[encoded data removed]",
      "text/plain": [
       "<matplotlib.figure.Figure at 0x11219be50>"
      ]
     },
     "metadata": {},
     "output_type": "display_data"
    }
   ],
   "source": [
    "plt.plot(inclination,latitude)\n",
    "plt.ylabel('latitude')\n",
    "plt.xlabel('inclination')\n",
    "plt.show()"
   ]
  },
  {
   "cell_type": "markdown",
   "metadata": {},
   "source": [
    "## Angle between directions"
   ]
  },
  {
   "cell_type": "code",
   "execution_count": 4,
   "metadata": {
    "collapsed": false
   },
   "outputs": [
    {
     "data": {
      "text/plain": [
       "array([ 103.00072744])"
      ]
     },
     "execution_count": 4,
     "metadata": {},
     "output_type": "execute_result"
    }
   ],
   "source": [
    "direction1 = [150,-40]\n",
    "direction2 = [120,60]\n",
    "\n",
    "pmag.angle(direction1,direction2)"
   ]
  },
  {
   "cell_type": "markdown",
   "metadata": {},
   "source": [
    "## Generate and plot Fisher distributed unit vectors from a specified distribution"
   ]
  },
  {
   "cell_type": "code",
   "execution_count": 5,
   "metadata": {
    "collapsed": false
   },
   "outputs": [
    {
     "data": {
      "text/html": [
       "<div>\n",
       "<table border=\"1\" class=\"dataframe\">\n",
       "  <thead>\n",
       "    <tr style=\"text-align: right;\">\n",
       "      <th></th>\n",
       "      <th>dec</th>\n",
       "      <th>inc</th>\n",
       "      <th>length</th>\n",
       "    </tr>\n",
       "  </thead>\n",
       "  <tbody>\n",
       "    <tr>\n",
       "      <th>0</th>\n",
       "      <td>202.921512</td>\n",
       "      <td>28.069955</td>\n",
       "      <td>1</td>\n",
       "    </tr>\n",
       "    <tr>\n",
       "      <th>1</th>\n",
       "      <td>192.638812</td>\n",
       "      <td>20.059832</td>\n",
       "      <td>1</td>\n",
       "    </tr>\n",
       "    <tr>\n",
       "      <th>2</th>\n",
       "      <td>202.600064</td>\n",
       "      <td>31.099036</td>\n",
       "      <td>1</td>\n",
       "    </tr>\n",
       "    <tr>\n",
       "      <th>3</th>\n",
       "      <td>210.932475</td>\n",
       "      <td>29.702782</td>\n",
       "      <td>1</td>\n",
       "    </tr>\n",
       "    <tr>\n",
       "      <th>4</th>\n",
       "      <td>187.882905</td>\n",
       "      <td>21.265950</td>\n",
       "      <td>1</td>\n",
       "    </tr>\n",
       "  </tbody>\n",
       "</table>\n",
       "</div>"
      ],
      "text/plain": [
       "          dec        inc  length\n",
       "0  202.921512  28.069955       1\n",
       "1  192.638812  20.059832       1\n",
       "2  202.600064  31.099036       1\n",
       "3  210.932475  29.702782       1\n",
       "4  187.882905  21.265950       1"
      ]
     },
     "execution_count": 5,
     "metadata": {},
     "output_type": "execute_result"
    }
   ],
   "source": [
    "fisher_directions = ipmag.fishrot(k=40, n=50, Dec=200, Inc=30)\n",
    "directions = pd.DataFrame(fisher_directions,columns=['dec','inc','length'])\n",
    "directions.head()"
   ]
  },
  {
   "cell_type": "code",
   "execution_count": 6,
   "metadata": {
    "collapsed": false
   },
   "outputs": [
    {
     "name": "stdout",
     "output_type": "stream",
     "text": [
      "Dec: 200.9  Inc: 29.4\n",
      "Number of directions in mean (n): 50\n",
      "Angular radius of 95% confidence (a_95): 3.3\n",
      "Precision parameter (k) estimate: 38.0\n"
     ]
    }
   ],
   "source": [
    "fisher_mean = ipmag.fisher_mean(directions.dec,directions.inc)\n",
    "bingham_mean = ipmag.bingham_mean(directions.dec,directions.inc)\n",
    "\n",
    "ipmag.print_direction_mean(fisher_mean)"
   ]
  },
  {
   "cell_type": "code",
   "execution_count": 7,
   "metadata": {
    "collapsed": false
   },
   "outputs": [
    {
     "name": "stdout",
     "output_type": "stream",
     "text": [
      "Dec: 200.9  Inc: 29.4\n",
      "Number of directions in mean (n): 50\n",
      "Angular radius of 95% confidence (a_95): 3.3\n",
      "Precision parameter (k) estimate: 38.0\n"
     ]
    },
    {
     "data": {
      "image/png": "[encoded data removed]",
      "text/plain": [
       "<matplotlib.figure.Figure at 0x112273610>"
      ]
     },
     "metadata": {},
     "output_type": "display_data"
    }
   ],
   "source": [
    "declinations, inclinations = ipmag.fishrot(k=40, n=50, Dec=200, Inc=30, DIBlock=False)\n",
    "\n",
    "plt.figure(num=1,figsize=(6,6))\n",
    "ipmag.plot_net(1)\n",
    "ipmag.plot_di(declinations,inclinations)\n",
    "ipmag.plot_di_mean(fisher_mean['dec'],fisher_mean['inc'],fisher_mean['alpha95'],color='r')\n",
    "\n",
    "# print out the raw fisher mean data above the equal area plot\n",
    "ipmag.print_direction_mean(fisher_mean)"
   ]
  },
  {
   "cell_type": "markdown",
   "metadata": {},
   "source": [
    "## Flip polarity of directional data"
   ]
  },
  {
   "cell_type": "markdown",
   "metadata": {},
   "source": [
    "Let's resolve the antipodes of the Fisher-distributed directions we just created using the function flip() function."
   ]
  },
  {
   "cell_type": "code",
   "execution_count": 8,
   "metadata": {
    "collapsed": false
   },
   "outputs": [
    {
     "data": {
      "image/png": "[encoded data removed]",
      "text/plain": [
       "<matplotlib.figure.Figure at 0x1122ba590>"
      ]
     },
     "metadata": {},
     "output_type": "display_data"
    }
   ],
   "source": [
    "# get reversed directions\n",
    "reverse = ipmag.flip(ipmag.make_di_block(declinations,inclinations))\n",
    "rev_directions = pd.DataFrame(reverse,columns=['dec','inc','length'])\n",
    "\n",
    "# take the Fisher mean of these reversed directions\n",
    "rev_mean = ipmag.fisher_mean(rev_directions.dec,rev_directions.inc)\n",
    "\n",
    "# plot the directions in opposite polarity\n",
    "plt.figure(num=1,figsize=(6,6))\n",
    "ipmag.plot_net(1)\n",
    "ipmag.plot_di(rev_directions.dec, rev_directions.inc)\n",
    "ipmag.plot_di_mean(rev_mean['dec'],rev_mean['inc'],rev_mean['alpha95'],color='r',marker='s')"
   ]
  },
  {
   "cell_type": "markdown",
   "metadata": {},
   "source": [
    "## Test directional data for Fisher distribution"
   ]
  },
  {
   "cell_type": "markdown",
   "metadata": {},
   "source": [
    "The ipmag function fishqq tests whether directional data is Fisher-distributed. Let's use this test on the random Fisher-distributed directions we just created (it should pass!). "
   ]
  },
  {
   "cell_type": "code",
   "execution_count": 9,
   "metadata": {
    "collapsed": false
   },
   "outputs": [
    {
     "data": {
      "text/plain": [
       "{'Dec': 199.0061333973872,\n",
       " 'Inc': 31.962534416021544,\n",
       " 'Me': 0.63255973152795586,\n",
       " 'Me_critical': 1.094,\n",
       " 'Mode': 'Mode 1',\n",
       " 'Mu': 1.4722086618002348,\n",
       " 'Mu_critical': 1.207,\n",
       " 'N': 50,\n",
       " 'Test_result': 'Fisherian model rejected'}"
      ]
     },
     "execution_count": 9,
     "metadata": {},
     "output_type": "execute_result"
    },
    {
     "data": {
      "image/png": "[encoded data removed]",
      "text/plain": [
       "<matplotlib.figure.Figure at 0x1122ce690>"
      ]
     },
     "metadata": {},
     "output_type": "display_data"
    },
    {
     "data": {
      "image/png": "[encoded data removed]",
      "text/plain": [
       "<matplotlib.figure.Figure at 0x112cc9550>"
      ]
     },
     "metadata": {},
     "output_type": "display_data"
    }
   ],
   "source": [
    "ipmag.fishqq(declinations, inclinations)"
   ]
  },
  {
   "cell_type": "markdown",
   "metadata": {},
   "source": [
    "## Squish directional data"
   ]
  },
  {
   "cell_type": "code",
   "execution_count": 24,
   "metadata": {
    "collapsed": false
   },
   "outputs": [
    {
     "data": {
      "image/png": "[encoded data removed]",
      "text/plain": [
       "<matplotlib.figure.Figure at 0x11719c290>"
      ]
     },
     "metadata": {},
     "output_type": "display_data"
    }
   ],
   "source": [
    "# squish all inclinations\n",
    "squished_incs = []\n",
    "for inclination in inclinations:\n",
    "    squished_incs.append(ipmag.squish(1.3, inclination))\n",
    "\n",
    "# plot the squished directional data\n",
    "plt.figure(num=1,figsize=(6,6))\n",
    "ipmag.plot_net(1)\n",
    "ipmag.plot_di(declinations,squished_incs)\n",
    "squished_DIs = np.array(zip(declinations,squished_incs))"
   ]
  },
  {
   "cell_type": "code",
   "execution_count": 20,
   "metadata": {
    "collapsed": false
   },
   "outputs": [
    {
     "data": {
      "image/png": "[encoded data removed]",
      "text/plain": [
       "<matplotlib.figure.Figure at 0x116f68810>"
      ]
     },
     "metadata": {},
     "output_type": "display_data"
    }
   ],
   "source": [
    "@interact\n",
    "def squish_interactive(factor=(0.,2.,.1)):\n",
    "    squished_incs = []\n",
    "    for inclination in inclinations:\n",
    "        squished_incs.append(ipmag.squish(factor, inclination))\n",
    "\n",
    "    # plot the squished directional data\n",
    "    plt.figure(num=1,figsize=(6,6))\n",
    "    ipmag.plot_net(1)\n",
    "    ipmag.plot_di(declinations,squished_incs)"
   ]
  },
  {
   "cell_type": "markdown",
   "metadata": {},
   "source": [
    "## Unsquish directional data"
   ]
  },
  {
   "cell_type": "code",
   "execution_count": 21,
   "metadata": {
    "collapsed": false
   },
   "outputs": [
    {
     "data": {
      "image/png": "[encoded data removed]",
      "text/plain": [
       "<matplotlib.figure.Figure at 0x11713bc10>"
      ]
     },
     "metadata": {},
     "output_type": "display_data"
    }
   ],
   "source": [
    "unsquished_incs = []\n",
    "for squished_inc in squished_incs:\n",
    "    unsquished_incs.append(ipmag.unsquish(.2, squished_inc))\n",
    "\n",
    "# plot the squished directional data\n",
    "plt.figure(num=1,figsize=(6,6))\n",
    "ipmag.plot_net(1)\n",
    "ipmag.plot_di(declinations,unsquished_incs)"
   ]
  },
  {
   "cell_type": "code",
   "execution_count": 26,
   "metadata": {
    "collapsed": false
   },
   "outputs": [],
   "source": [
    "from IPython.display import clear_output\n",
    "\n",
    "def EI(inc):\n",
    "    poly_tk03= [  3.15976125e-06,  -3.52459817e-04,  -1.46641090e-02,   2.89538539e+00]  \n",
    "    return poly_tk03[0]*inc**3 + poly_tk03[1]*inc**2+poly_tk03[2]*inc+poly_tk03[3]\n",
    "\n",
    "\n",
    "def find_f(data):\n",
    "    rad=np.pi/180.\n",
    "    Es,Is,Fs,V2s=[],[],[],[]\n",
    "    ppars = pmag.doprinc(data)\n",
    "    D=ppars['dec']\n",
    "    Decs,Incs=data.transpose()[0],data.transpose()[1]\n",
    "    Tan_Incs=np.tan(Incs*rad)\n",
    "    for f in np.arange(1.,.2 ,-.01):\n",
    "        U=np.arctan((1./f)*Tan_Incs)/rad\n",
    "        fdata=np.array([Decs,U]).transpose()\n",
    "        ppars=pmag.doprinc(fdata)\n",
    "        Fs.append(f)\n",
    "        Es.append(ppars[\"tau2\"]/ppars[\"tau3\"])\n",
    "        angle=pmag.angle([D,0],[ppars[\"V2dec\"],0])\n",
    "        if 180.-angle<angle:angle=180.-angle\n",
    "        V2s.append(angle)\n",
    "        Is.append(abs(ppars[\"inc\"]))\n",
    "        if EI(abs(ppars[\"inc\"]))<=Es[-1]:\n",
    "            del Es[-1]\n",
    "            del Is[-1]\n",
    "            del Fs[-1]\n",
    "            del V2s[-1]\n",
    "            if len(Fs)>0:\n",
    "                for f in np.arange(Fs[-1],.2 ,-.005):\n",
    "                    U=np.arctan((1./f)*Tan_Incs)/rad\n",
    "                    fdata=np.array([Decs,U]).transpose()\n",
    "                    ppars=pmag.doprinc(fdata)\n",
    "                    Fs.append(f)\n",
    "                    Es.append(ppars[\"tau2\"]/ppars[\"tau3\"])\n",
    "                    Is.append(abs(ppars[\"inc\"]))\n",
    "                    angle=pmag.angle([D,0],[ppars[\"V2dec\"],0])\n",
    "                    if 180.-angle<angle:angle=180.-angle\n",
    "                    V2s.append(angle)\n",
    "                    if EI(abs(ppars[\"inc\"]))<=Es[-1]:\n",
    "                        return Es,Is,Fs,V2s\n",
    "    return [0],[0],[0],[0]\n",
    "\n",
    "def find_EI(data=None, path_to_file = '.', file_name = 'magic_measurements.txt', \n",
    "            save = False, save_folder = '.', fmt='svg'):\n",
    "    \"\"\"\n",
    "    NAME\n",
    "        find_EI.py\n",
    " \n",
    "    DESCRIPTION\n",
    "        Applies series of assumed flattening factor and \"unsquishes\" inclinations assuming tangent function.\n",
    "        Finds flattening factor that gives elongation/inclination pair consistent with TK03.  \n",
    "        Finds bootstrap confidence bounds\n",
    "\n",
    "    SYNTAX\n",
    "        find_EI.py [command line options]\n",
    "\n",
    "    OPTIONS\n",
    "        -h prints help message and quits\n",
    "        -i allows interactive input of file name\n",
    "        -f FILE specify input file name\n",
    "        -nb N specify number of bootstraps - the more the better, but slower!, default is 1000\n",
    "        -fmt [svg,png,eps,pdf..] change plot format, default is svg\n",
    "        -sav  saves the figures and quits\n",
    "\n",
    "    INPUT\n",
    "        dec/inc pairs, delimited with space or tabs\n",
    "\n",
    "    OUTPUT\n",
    "        four plots:  1) equal area plot of original directions\n",
    "                      2) Elongation/inclination pairs as a function of f,  data plus 25 bootstrap samples\n",
    "                      3) Cumulative distribution of bootstrapped optimal inclinations plus uncertainties.\n",
    "                         Estimate from original data set plotted as solid line\n",
    "                      4) Orientation of principle direction through unflattening\n",
    "    NOTE: If distribution does not have a solution, plot labeled: Pathological.  Some bootstrap samples may have\n",
    "       valid solutions and those are plotted in the CDFs and E/I plot.\n",
    "\n",
    "    \"\"\"\n",
    "    fmt,nb='svg',1000\n",
    "    plot=0\n",
    "    if '-i' in sys.argv:\n",
    "        file=raw_input(\"Enter file name for processing: \")\n",
    "    if '-h' in sys.argv:\n",
    "        print main.__doc__\n",
    "        sys.exit() # graceful quit\n",
    "    elif '-f' in sys.argv:\n",
    "        ind=sys.argv.index('-f')\n",
    "        file=sys.argv[ind+1]\n",
    "    else:\n",
    "        print main.__doc__\n",
    "        sys.exit()\n",
    "    if '-nb' in sys.argv:\n",
    "        ind=sys.argv.index('-nb')\n",
    "        nb=int(sys.argv[ind+1])\n",
    "    if '-fmt' in sys.argv:\n",
    "        ind=sys.argv.index('-fmt')\n",
    "        fmt=sys.argv[ind+1]\n",
    "    if '-sav' in sys.argv:plot=1\n",
    "    if data == None:\n",
    "        file = os.path.join(path_to_file,file_name)\n",
    "        data=np.loadtxt(file)\n",
    "    else:\n",
    "        data = data\n",
    "    upper,lower=int(round(.975*nb)),int(round(.025*nb))\n",
    "    E,I=[],[]\n",
    "    PLTS={'eq':1,'ei':2,'cdf':3,'v2':4}\n",
    "    plt.figure(num=PLTS['eq'], figsize=(6,6))\n",
    "    plt.figure(num=PLTS['ei'], figsize=(5,5))\n",
    "    plt.figure(num=PLTS['cdf'], figsize=(5,5))\n",
    "    plt.figure(num=PLTS['v2'], figsize=(5,5))\n",
    "    pmagplotlib.plotEQ(PLTS['eq'],data,'Data')\n",
    "    if plot==0:\n",
    "        pmagplotlib.drawFIGS(PLTS)\n",
    "    ppars=pmag.doprinc(data)\n",
    "    Io=ppars['inc']\n",
    "    n=ppars[\"N\"]\n",
    "    Es,Is,Fs,V2s=find_f(data)\n",
    "    Inc,Elong=Is[-1],Es[-1]\n",
    "    pmagplotlib.plotEI(PLTS['ei'],Es,Is,Fs[-1])\n",
    "    pmagplotlib.plotV2s(PLTS['v2'],V2s,Is,Fs[-1])\n",
    "    b=0\n",
    "    print \"Bootstrapping.... be patient\"\n",
    "    while b < nb:\n",
    "        bdata = pmag.pseudo(data)\n",
    "        Es,Is,Fs,V2s = find_f(bdata)\n",
    "        if b<25:\n",
    "            pmagplotlib.plotEI(PLTS['ei'],Es,Is,Fs[-1])\n",
    "        if Es[-1] != 0:\n",
    "            ppars=pmag.doprinc(bdata)\n",
    "            I.append(abs(Is[-1]))\n",
    "            E.append(Es[-1])\n",
    "            b += 1\n",
    "            if b%25==0:\n",
    "                print b,'out of',nb;\n",
    "    I.sort()\n",
    "    E.sort()\n",
    "    Eexp=[]\n",
    "    for i in I:\n",
    "        Eexp.append(EI(i)) \n",
    "    if Inc==0:\n",
    "        title= 'Pathological Distribution: '+'[%7.1f, %7.1f]' %(I[lower],I[upper])\n",
    "    else:\n",
    "        title= '%7.1f [%7.1f, %7.1f]' %( Inc, I[lower],I[upper])\n",
    "    pmagplotlib.plotEI(PLTS['ei'],Eexp,I,1)\n",
    "    pmagplotlib.plotCDF(PLTS['cdf'],I,'Inclinations','r',title)\n",
    "    pmagplotlib.plotVs(PLTS['cdf'],[I[lower],I[upper]],'b','--')\n",
    "    pmagplotlib.plotVs(PLTS['cdf'],[Inc],'g','-')\n",
    "    pmagplotlib.plotVs(PLTS['cdf'],[Io],'k','-')\n",
    "    if plot==0:\n",
    "        pmagplotlib.drawFIGS(PLTS)\n",
    "        print \"Io Inc  I_lower, I_upper, Elon, E_lower, E_upper\"\n",
    "        print '%7.1f %s %7.1f _ %7.1f ^ %7.1f:  %6.4f _ %6.4f ^ %6.4f'%(Io, \" => \", Inc, I[lower],I[upper], Elong, E[lower],E[upper])\n",
    "        ans= raw_input(\"S[a]ve plots - <return> to quit:  \")\n",
    "        if ans!='a':\n",
    "            print \"\\n Good bye\\n\"\n",
    "            sys.exit()\n",
    "    files={}\n",
    "    files['eq']='findEI_eq.'+fmt\n",
    "    files['ei']='findEI_ei.'+fmt\n",
    "    files['cdf']='findEI_cdf.'+fmt\n",
    "    files['v2']='findEI_v2.'+fmt\n",
    "    #pmagplotlib.saveP(PLTS,files)"
   ]
  },
  {
   "cell_type": "markdown",
   "metadata": {},
   "source": [
    "Let's test the find_EI() function on our squished directional data."
   ]
  },
  {
   "cell_type": "code",
   "execution_count": 28,
   "metadata": {
    "collapsed": false,
    "scrolled": false
   },
   "outputs": [
    {
     "name": "stdout",
     "output_type": "stream",
     "text": [
      "Bootstrapping.... be patient\n",
      "25 out of 1000\n",
      "50 out of 1000\n",
      "75 out of 1000\n",
      "100 out of 1000\n",
      "125 out of 1000\n",
      "150 out of 1000\n",
      "175 out of 1000\n",
      "200 out of 1000\n",
      "225 out of 1000\n",
      "250 out of 1000\n",
      "275 out of 1000\n",
      "300 out of 1000\n",
      "325 out of 1000\n",
      "350 out of 1000\n",
      "375 out of 1000\n",
      "400 out of 1000\n",
      "425 out of 1000\n",
      "450 out of 1000\n",
      "475 out of 1000\n",
      "500 out of 1000\n",
      "525 out of 1000\n",
      "550 out of 1000\n",
      "575 out of 1000\n",
      "600 out of 1000\n",
      "625 out of 1000\n",
      "650 out of 1000\n",
      "675 out of 1000\n",
      "700 out of 1000\n",
      "725 out of 1000\n",
      "750 out of 1000\n",
      "775 out of 1000\n",
      "800 out of 1000\n",
      "825 out of 1000\n",
      "850 out of 1000\n",
      "875 out of 1000\n",
      "900 out of 1000\n",
      "925 out of 1000\n",
      "950 out of 1000\n",
      "975 out of 1000\n",
      "1000 out of 1000\n",
      "Io Inc  I_lower, I_upper, Elon, E_lower, E_upper\n",
      "   38.9  =>     58.8 _    48.0 ^    66.5:  1.4679 _ 1.3011 ^ 1.7414\n",
      "S[a]ve plots - <return> to quit:  \n",
      "\n",
      " Good bye\n",
      "\n"
     ]
    },
    {
     "ename": "SystemExit",
     "evalue": "",
     "output_type": "error",
     "traceback": [
      "An exception has occurred, use %tb to see the full traceback.\n",
      "\u001b[0;31mSystemExit\u001b[0m\n"
     ]
    },
    {
     "name": "stderr",
     "output_type": "stream",
     "text": [
      "To exit: use 'exit', 'quit', or Ctrl-D.\n"
     ]
    },
    {
     "data": {
      "image/png": "[encoded data removed]",
      "text/plain": [
       "<matplotlib.figure.Figure at 0x1163bf2d0>"
      ]
     },
     "metadata": {},
     "output_type": "display_data"
    },
    {
     "data": {
      "image/png": "[encoded data removed]",
      "text/plain": [
       "<matplotlib.figure.Figure at 0x11639c5d0>"
      ]
     },
     "metadata": {},
     "output_type": "display_data"
    },
    {
     "data": {
      "image/png": "[encoded data removed]",
      "text/plain": [
       "<matplotlib.figure.Figure at 0x1121ed4d0>"
      ]
     },
     "metadata": {},
     "output_type": "display_data"
    },
    {
     "data": {
      "image/png": "[encoded data removed]",
      "text/plain": [
       "<matplotlib.figure.Figure at 0x1121ede50>"
      ]
     },
     "metadata": {},
     "output_type": "display_data"
    }
   ],
   "source": [
    "find_EI(path_to_file = 'PmagPy_Datafiles/find_EI/', file_name= 'find_EI_example.dat')"
   ]
  },
  {
   "cell_type": "markdown",
   "metadata": {
    "collapsed": true
   },
   "source": [
    "## Working with anisotropy data"
   ]
  },
  {
   "cell_type": "code",
   "execution_count": null,
   "metadata": {
    "collapsed": false,
    "scrolled": false
   },
   "outputs": [],
   "source": [
    "aniso_data = pd.read_csv('./PmagPy_Datafiles/ani_depthplot/rmag_anisotropy.txt',delimiter='\\t',skiprows=1)\n",
    "aniso_data.head()"
   ]
  },
  {
   "cell_type": "code",
   "execution_count": null,
   "metadata": {
    "collapsed": false
   },
   "outputs": [],
   "source": [
    "ipmag.aniso_depthplot(dir_path='./PmagPy_Datafiles/ani_depthplot/');"
   ]
  },
  {
   "cell_type": "markdown",
   "metadata": {},
   "source": [
    "## Working with poles"
   ]
  },
  {
   "cell_type": "markdown",
   "metadata": {},
   "source": [
    "A variety of plotting functions within PmagPy, together with the Basemap package of matplotlib, provide a great way to work with paleomagnetic poles, virtual geomagnetic poles, and polar wander paths."
   ]
  },
  {
   "cell_type": "code",
   "execution_count": null,
   "metadata": {
    "collapsed": false
   },
   "outputs": [],
   "source": [
    "# initiate figure and specify figure size\n",
    "plt.figure(figsize=(6, 6))\n",
    "\n",
    "# initiate a Basemap projection, specifying the latitude and\n",
    "# longitude (lat_0 and lon_0) at which our figure is centered.\n",
    "pmap = Basemap(projection='ortho',lat_0=30,lon_0=320,\n",
    "               resolution='c',area_thresh=50000)\n",
    "# other optional modifications to the globe figure\n",
    "pmap.drawcoastlines(linewidth=0.25)\n",
    "pmap.fillcontinents(color='bisque',lake_color='white',zorder=1)\n",
    "pmap.drawmapboundary(fill_color='white')\n",
    "pmap.drawmeridians(np.arange(0,360,30))\n",
    "pmap.drawparallels(np.arange(-90,90,30))\n",
    "\n",
    "\n",
    "# Here we plot a pole at 340 E longitude, 30 N latitude with an\n",
    "# alpha 95 error angle of 5 degrees. Keyword arguments allow us\n",
    "# to specify the label, shape, and color of this data.\n",
    "ipmag.plot_pole(pmap,340,30,5,label='VGP examples',\n",
    "               marker='s',color='Blue')\n",
    "\n",
    "# We can plot multiple poles sequentially on the same globe using\n",
    "# the same plot_pole function.\n",
    "ipmag.plot_pole(pmap,290,-3,9,marker='s',color='Blue')\n",
    "\n",
    "plt.legend()\n",
    "# Optional save (uncomment to save the figure)\n",
    "#plt.savefig('Code_output/VGP_example.pdf')\n",
    "plt.show()"
   ]
  },
  {
   "cell_type": "markdown",
   "metadata": {},
   "source": [
    "The capability to plot multiple poles in sequence provides a good way to analyze polar wander paths. Here we use the Phanerozoic APWP of Laurentia *(Torsvik, 2012)* to demonstrate the plot_pole_colorbar function.\n",
    "\n",
    "We first upload the Torsvik (2012) data using the pandas function *read_csv*. "
   ]
  },
  {
   "cell_type": "code",
   "execution_count": null,
   "metadata": {
    "collapsed": false
   },
   "outputs": [],
   "source": [
    "Laurentia_Pole_Compilation = pd.read_csv('PmagPy_Datafiles/plot_pole_colorbar/Laurentia_Pole_Compilation.csv')\n",
    "Laurentia_Pole_Compilation.head()"
   ]
  },
  {
   "cell_type": "code",
   "execution_count": null,
   "metadata": {
    "collapsed": false
   },
   "outputs": [],
   "source": [
    "# initiate the figure as in the plot_pole example\n",
    "plt.figure(figsize=(8, 8))\n",
    "pmap = Basemap(projection='ortho',lat_0=25,lon_0=320,\n",
    "               resolution='c',area_thresh=50000)\n",
    "pmap.drawcoastlines(linewidth=0.25)\n",
    "pmap.fillcontinents(color='bisque',lake_color='white',zorder=1)\n",
    "pmap.drawmapboundary(fill_color='white')\n",
    "pmap.drawmeridians(np.arange(0,360,30))\n",
    "pmap.drawparallels(np.arange(-90,90,30))\n",
    "\n",
    "# Loop through the uploaded data and use the plot_pole_colorbar function\n",
    "# (instead of plot_pole) to plot the individual poles. The input of this\n",
    "# function is very similar to that of plot_pole but has the additional\n",
    "# arguments of (1)AGE, (2)MINIMUM AND (3)MAXIMUM AGES OF PLOTTED POLES.\n",
    "# Note that the ages are treated as negative numbers -- this just determines\n",
    "# the direction of the colorbar.\n",
    "for n in xrange (0, len(Laurentia_Pole_Compilation)):\n",
    "     m = ipmag.plot_pole_colorbar(pmap, Laurentia_Pole_Compilation['CLon'][n],\n",
    "                                  Laurentia_Pole_Compilation['CLat'][n],\n",
    "                                  Laurentia_Pole_Compilation['A95'][n],\n",
    "                                  -Laurentia_Pole_Compilation['Age'][n],\n",
    "                                  -532,\n",
    "                                  -300,\n",
    "                                  markersize=80, color=\"k\", alpha=1)\n",
    "\n",
    "pmap.colorbar(m,location='bottom',pad=\"5%\",label='Age of magnetization (Ma)')\n",
    "\n",
    "# Optional save (uncomment to save the figure)\n",
    "#plt.savefig('Notebook_Output/plot_pole_colorbar_example.pdf')\n",
    "\n",
    "plt.show()"
   ]
  },
  {
   "cell_type": "markdown",
   "metadata": {},
   "source": [
    "## Susceptibility vs. temperature, applied field and frequency"
   ]
  },
  {
   "cell_type": "markdown",
   "metadata": {},
   "source": [
    "This example makes use of the PmagPy function **chi_magic.py**."
   ]
  },
  {
   "cell_type": "code",
   "execution_count": null,
   "metadata": {
    "collapsed": false
   },
   "outputs": [],
   "source": [
    "def chi_magic(path_to_file = '.', file_name = 'magic_measurements.txt', save = False, save_folder = '.', fmt='svg'):\n",
    "    \"\"\"\n",
    "    Generates plots that compare susceptibility to temperature at different\n",
    "    frequencies.\n",
    "\n",
    "    Optional Keywords (defaults are used if not specified)\n",
    "    ----------\n",
    "    path_to_file : path to directory that contains file (default is current directory, '.')\n",
    "    file_name : name of file to be opened (default is 'magic_measurements.txt')\n",
    "    save : boolean argument to save plots (default is False)\n",
    "    save_folder : relative directory where plots will be saved (default is current directory, '.')\n",
    "    \"\"\"\n",
    "    cont,FTinit,BTinit,k=\"\",0,0,0\n",
    "    complete_path = os.path.join(path_to_file,file_name)\n",
    "    Tind,cont=0,\"\"\n",
    "    EXP=\"\"\n",
    "    #\n",
    "    meas_data,file_type=pmag.magic_read(complete_path)\n",
    "    #\n",
    "    # get list of unique experiment names\n",
    "    #\n",
    "    # initialize some variables (a continuation flag, plot initialization flags and the experiment counter\n",
    "    experiment_names=[]\n",
    "    for rec in meas_data:\n",
    "        if rec['magic_experiment_name'] not in experiment_names:experiment_names.append(rec['magic_experiment_name'])\n",
    "    #\n",
    "    # hunt through by experiment name\n",
    "    if EXP!=\"\":\n",
    "        try:\n",
    "            k=experiment_names.index(EXP)\n",
    "        except:\n",
    "            print \"Bad experiment name\"\n",
    "            sys.exit()\n",
    "    while k < len(experiment_names):\n",
    "        e=experiment_names[k]\n",
    "        if EXP==\"\":print e, k+1 , 'out of ',len(experiment_names)\n",
    "    #\n",
    "    #  initialize lists of data, susceptibility, temperature, frequency and field\n",
    "        X,T,F,B=[],[],[],[]\n",
    "        for rec in meas_data:\n",
    "            methcodes=rec['magic_method_codes']\n",
    "            meths=methcodes.strip().split(':')\n",
    "            if rec['magic_experiment_name']==e and \"LP-X\" in meths: # looking for chi measurement\n",
    "                if 'measurement_temp' not in rec.keys():rec['measurement_temp']='300' # set defaults\n",
    "                if 'measurement_freq' not in rec.keys():rec['measurement_freq']='0' # set defaults\n",
    "                if 'measurement_lab_field_ac' not in rec.keys():rec['measurement_lab_field_ac']='0' # set default\n",
    "                X.append(float(rec['measurement_x']))\n",
    "                T.append(float(rec['measurement_temp']))\n",
    "                F.append(float(rec['measurement_freq']))\n",
    "                B.append(float(rec['measurement_lab_field_ac']))\n",
    "    #\n",
    "    # get unique list of Ts,Fs, and Bs\n",
    "    #\n",
    "        Ts,Fs,Bs=[],[],[]\n",
    "        for k in range(len(X)):   # hunt through all the measurements\n",
    "            if T[k] not in Ts:Ts.append(T[k])  # append if not in list\n",
    "            if F[k] not in Fs:Fs.append(F[k])\n",
    "            if B[k] not in Bs:Bs.append(B[k])\n",
    "        Ts.sort() # sort list of temperatures, frequencies and fields\n",
    "        Fs.sort()\n",
    "        Bs.sort()\n",
    "        if '-x' in sys.argv:\n",
    "            k=len(experiment_names)+1 # just plot the one\n",
    "        else:\n",
    "            k+=1  # increment experiment number\n",
    "    #\n",
    "    # plot chi versus T and F holding B constant\n",
    "    #  \n",
    "        plotnum=1  # initialize plot number to 1\n",
    "        if len(X)>2:  # if there are any data to plot, continue\n",
    "            b=Bs[-1]  # keeping field constant and at maximum\n",
    "            XTF=[] # initialize list of chi versus Temp and freq\n",
    "            for f in Fs:   # step through frequencies sequentially\n",
    "                XT=[]  # initialize list of chi versus temp\n",
    "                for kk in range(len(X)): # hunt through all the data\n",
    "                    if F[kk]==f and B[kk]==b:  # select data with given freq and field\n",
    "                        XT.append([X[kk],T[kk]]) # append to list\n",
    "                XTF.append(XT) # append list to list of frequencies\n",
    "            if len(XT)>1: # if there are any temperature dependent data\n",
    "                plt.figure(num=plotnum,figsize=(5,5)) # initialize plot\n",
    "                pmagplotlib.plotXTF(plotnum,XTF,Fs,e,b) # call the plotting function\n",
    "                pmagplotlib.drawFIGS({'fig':plotnum})\n",
    "                plotnum+=1 # increment plot number\n",
    "            f=Fs[0] # set frequency to minimum\n",
    "            XTB=[] # initialize list if chi versus Temp and field\n",
    "            for b in Bs:  # step through field values\n",
    "                XT=[] # initial chi versus temp list for this field\n",
    "                for kk in range(len(X)): # hunt through all the data\n",
    "                    if F[kk]==f and B[kk]==b: # select data with given freq and field  \n",
    "                        XT.append([X[kk],T[kk]]) # append to list\n",
    "                XTB.append(XT)\n",
    "            if len(XT)>1: # if there are any temperature dependent data\n",
    "                plt.figure(num=plotnum,figsize=(5,5)) # set up plot\n",
    "                pmagplotlib.plotXTB(plotnum,XTB,Bs,e,f) # call the plotting function\n",
    "                pmagplotlib.drawFIGS({'fig':plotnum})\n",
    "                plotnum+=1 # increment plot number\n",
    "            if save == True:\n",
    "                files={}\n",
    "                PLTS={}\n",
    "                for p in range(1,plotnum):\n",
    "                    key=str(p)\n",
    "                    files[key]=e+'_'+key+'.'+fmt\n",
    "                    PLTS[key]=p\n",
    "                for key in PLTS.keys():\n",
    "                    try:\n",
    "                        plt.figure(num=PLTS[key])\n",
    "                        plt.savefig(save_folder + '/' + files[key].replace('/','-'))\n",
    "                    except:\n",
    "                        print 'could not save: ',PLTS[key],files[key]\n",
    "                        print \"output file format not supported \""
   ]
  },
  {
   "cell_type": "code",
   "execution_count": null,
   "metadata": {
    "collapsed": false
   },
   "outputs": [],
   "source": [
    "chi_magic(path_to_file='./PmagPy_Datafiles/chi_magic/',\n",
    "          file_name='chi_magic_example.dat', save=True, \n",
    "          save_folder='Notebook_Output')"
   ]
  },
  {
   "cell_type": "markdown",
   "metadata": {},
   "source": [
    "## Curie temperature data"
   ]
  },
  {
   "cell_type": "code",
   "execution_count": null,
   "metadata": {
    "collapsed": false
   },
   "outputs": [],
   "source": [
    "def smooth(x,window_len,window='bartlett'):\n",
    "    \"\"\"\n",
    "    Smooth the data using a sliding window with requested size - meant to be\n",
    "    used with the ipmag function curie(). \n",
    "    This method is based on the convolution of a scaled window with the signal.\n",
    "    The signal is prepared by padding the beginning and the end of the signal\n",
    "    with average of the first (last) ten values of the signal, to evoid jumps\n",
    "    at the beggining/end. Output is an array of the smoothed signal.\n",
    "    \n",
    "    Required Arguments\n",
    "    ----------\n",
    "    x : the input signal, equaly spaced! \n",
    "    window_len : the dimension of the smoothing window\n",
    "    \n",
    "    Optional Keywords (defaults are used if not specified)\n",
    "    ----------\n",
    "    window : type of window from numpy library ['flat','hanning','hamming','bartlett','blackman']\n",
    "        (default is Bartlett)\n",
    "        -flat window will produce a moving average smoothing.\n",
    "        -Bartlett window is very similar to triangular window,\n",
    "            but always ends with zeros at points 1 and n.\n",
    "        -hanning,hamming,blackman are used for smoothing the Fourier transfrom\n",
    "    \"\"\"\n",
    "\n",
    "    if x.ndim != 1:\n",
    "        raise ValueError, \"smooth only accepts 1 dimension arrays.\"\n",
    "\n",
    "    if x.size < window_len:\n",
    "        raise ValueError, \"Input vector needs to be bigger than window size.\"\n",
    "\n",
    "    if window_len<3:\n",
    "        return x\n",
    "\n",
    "    # numpy available windows\n",
    "    if not window in ['flat', 'hanning', 'hamming', 'bartlett', 'blackman']:\n",
    "        raise ValueError, \"Window is on of 'flat', 'hanning', 'hamming', 'bartlett', 'blackman'\"\n",
    "\n",
    "    # padding the beggining and the end of the signal with an average value to evoid edge effect\n",
    "    start=[np.average(x[0:10])]*window_len\n",
    "    end=[np.average(x[-10:])]*window_len\n",
    "    s=start+list(x)+end\n",
    "\n",
    "        \n",
    "    #s=numpy.r_[2*x[0]-x[window_len:1:-1],x,2*x[-1]-x[-1:-window_len:-1]]\n",
    "    if window == 'flat': #moving average\n",
    "        w=ones(window_len,'d')\n",
    "    else:\n",
    "        w=eval('np.'+window+'(window_len)')\n",
    "    y=np.convolve(w/w.sum(),s,mode='same')\n",
    "    return np.array(y[window_len:-window_len])\n",
    "\n",
    "\n",
    "\n",
    "def deriv1(x,y,i,n):\n",
    "    \"\"\"\n",
    "    Alternative way to smooth the derivative of a noisy signal\n",
    "    using least square fit. In this method the slope in position\n",
    "    'i' is calculated by least square fit of 'n' points before \n",
    "    and after position. \n",
    "    \n",
    "    Required Arguments\n",
    "    ----------\n",
    "    x : array of x axis\n",
    "    y : array of y axis\n",
    "    n : smoothing factor\n",
    "    i : position\n",
    "    \"\"\"\n",
    "    m_,x_,y_,xy_,x_2=0.,0.,0.,0.,0.\n",
    "    for ix in range(i,i+n,1):\n",
    "        x_=x_+x[ix]\n",
    "        y_=y_+y[ix]\n",
    "        xy_=xy_+x[ix]*y[ix]\n",
    "        x_2=x_2+x[ix]**2\n",
    "    m = ((n*xy_) - (x_*y_) ) / ( n*x_2-(x_)**2)\n",
    "    return(m)\n",
    "    \n",
    "def curie(path_to_file = '.',file_name = 'magic_measurements.txt', \n",
    "          window_length = 3, save = False, save_folder = '.', fmt = 'svg'):\n",
    "    \"\"\"\n",
    "    Plots and interprets curie temperature data.\n",
    "    ***\n",
    "    The 1st derivative is calculated from smoothed M-T curve (convolution \n",
    "    with trianfular window with width= <-w> degrees)\n",
    "    ***\n",
    "    The 2nd derivative is calculated from smoothed 1st derivative curve\n",
    "    (using the same sliding window width)\n",
    "    ***\n",
    "    The estimated curie temp. is the maximum of the 2nd derivative. \n",
    "    Temperature steps should be in multiples of 1.0 degrees.\n",
    "    \n",
    "    Optional Keywords (defaults are used if not specified)\n",
    "    ----------\n",
    "    path_to_file : path to directory that contains file (default is current directory, '.')\n",
    "    file_name : name of file to be opened (default is 'magic_measurements.txt')\n",
    "    window_length : dimension of smoothing window (input to smooth() function)\n",
    "    save : boolean argument to save plots (default is False)\n",
    "    save_folder : relative directory where plots will be saved (default is current directory, '.')\n",
    "    fmt : format of saved figures\n",
    "    \"\"\"\n",
    "\n",
    "    plot=0\n",
    "    window_len=window_length\n",
    "    t_begin=''      \n",
    "    t_end=''\n",
    "    \n",
    "    # read data from file\n",
    "    complete_path = os.path.join(path_to_file,file_name)\n",
    "    Data=np.loadtxt(complete_path,dtype=np.float)\n",
    "    T=Data.transpose()[0]\n",
    "    M=Data.transpose()[1]\n",
    "    T=list(T)\n",
    "    M=list(M)\n",
    "    # cut the data if -t is one of the flags\n",
    "    if t_begin:\n",
    "        while T[0]<t_begin:\n",
    "            M.pop(0);T.pop(0)\n",
    "        while T[-1]>t_end:\n",
    "            M.pop(-1);T.pop(-1)\n",
    "        \n",
    "            \n",
    "    # prepare the signal:\n",
    "    # from M(T) array with unequal deltaT\n",
    "    # to M(T) array with deltaT=(1 degree).\n",
    "    # if delataT is larger, then points are added using linear fit between\n",
    "    # consecutive data points.\n",
    "    # exit if deltaT is not integer\n",
    "    i=0\n",
    "    while i<(len(T)-1):\n",
    "        if (T[i+1]-T[i])%1>0.001:\n",
    "            print \"delta T should be integer, this program will not work!\"\n",
    "            print \"temperature range:\",T[i],T[i+1]\n",
    "            sys.exit()\n",
    "        if (T[i+1]-T[i])==0.:\n",
    "            M[i]=np.average([M[i],M[i+1]])\n",
    "            M.pop(i+1);T.pop(i+1)\n",
    "        elif (T[i+1]-T[i])<0.:\n",
    "            M.pop(i+1);T.pop(i+1)\n",
    "            print \"check data in T=%.0f ,M[T] is ignored\"%(T[i])\n",
    "        elif (T[i+1]-T[i])>1.:\n",
    "            slope,b=np.polyfit([T[i],T[i+1]],[M[i],M[i+1]],1)\n",
    "            for j in range(int(T[i+1])-int(T[i])-1):\n",
    "                M.insert(i+1,slope*(T[i]+1.)+b)\n",
    "                T.insert(i+1,(T[i]+1.))\n",
    "                i=i+1\n",
    "        i=i+1\n",
    "\n",
    "    # calculate the smoothed signal\n",
    "    M=np.array(M,'f')\n",
    "    T=np.array(T,'f')\n",
    "    M_smooth=[]\n",
    "    M_smooth=smooth(M,window_len)\n",
    "\n",
    "    #plot the original data and the smooth data\n",
    "    PLT={'M_T':1,'der1':2,'der2':3,'Curie':4} \n",
    "    plt.figure(num=PLT['M_T'],figsize=(5,5))\n",
    "    string='M-T (sliding window=%i)'%int(window_len)\n",
    "    pmagplotlib.plotXY(PLT['M_T'],T,M_smooth,sym='-')\n",
    "    pmagplotlib.plotXY(PLT['M_T'],T,M,sym='--',xlab='Temperature C',ylab='Magnetization',title=string)\n",
    "    \n",
    "    #calculate first derivative\n",
    "    d1,T_d1=[],[]\n",
    "    for i in range(len(M_smooth)-1):\n",
    "        Dy=M_smooth[i-1]-M_smooth[i+1]\n",
    "        Dx=T[i-1]-T[i+1]\n",
    "        d1.append(Dy/Dx)\n",
    "    T_d1=T[1:len(T-1)]\n",
    "    d1=np.array(d1,'f')\n",
    "    d1_smooth=smooth(d1,window_len)\n",
    "\n",
    "    #plot the first derivative\n",
    "    plt.figure(num=PLT['der1'],figsize=(5,5))\n",
    "    string='1st derivative (sliding window=%i)'%int(window_len)\n",
    "    pmagplotlib.plotXY(PLT['der1'],T_d1,d1_smooth,sym='-',xlab='Temperature C',title=string)\n",
    "    pmagplotlib.plotXY(PLT['der1'],T_d1,d1,sym='b--')\n",
    "\n",
    "    #calculate second derivative\n",
    "    d2,T_d2=[],[]\n",
    "    for i in range(len(d1_smooth)-1):\n",
    "        Dy=d1_smooth[i-1]-d1_smooth[i+1]\n",
    "        Dx=T[i-1]-T[i+1]\n",
    "        #print Dy/Dx\n",
    "        d2.append(Dy/Dx)\n",
    "    T_d2=T[2:len(T-2)]\n",
    "    d2=np.array(d2,'f')\n",
    "    d2_smooth=smooth(d2,window_len)\n",
    "    \n",
    "    #plot the second derivative\n",
    "    plt.figure(num=PLT['der2'],figsize=(5,5))\n",
    "    string='2nd dervative (sliding window=%i)'%int(window_len)\n",
    "    pmagplotlib.plotXY(PLT['der2'],T_d2,d2,sym='-',xlab='Temperature C',title=string)\n",
    "    d2=list(d2)\n",
    "    print 'second deriative maximum is at T=%i'%int(T_d2[d2.index(max(d2))])\n",
    "\n",
    "    # calculate Curie temperature for different width of sliding windows\n",
    "    curie,curie_1=[],[]\n",
    "    wn=range(5,50,1)\n",
    "    for win in wn:\n",
    "        # calculate the smoothed signal\n",
    "        M_smooth=[]\n",
    "        M_smooth=smooth(M,win)\n",
    "        #calculate first derivative\n",
    "        d1,T_d1=[],[]\n",
    "        for i in range(len(M_smooth)-1):\n",
    "            Dy=M_smooth[i-1]-M_smooth[i+1]\n",
    "            Dx=T[i-1]-T[i+1]\n",
    "            d1.append(Dy/Dx)\n",
    "        T_d1=T[1:len(T-1)]\n",
    "        d1=np.array(d1,'f')\n",
    "        d1_smooth=smooth(d1,win)\n",
    "        #calculate second derivative\n",
    "        d2,T_d2=[],[]\n",
    "        for i in range(len(d1_smooth)-1):\n",
    "            Dy=d1_smooth[i-1]-d1_smooth[i+1]\n",
    "            Dx=T[i-1]-T[i+1]\n",
    "            d2.append(Dy/Dx)\n",
    "        T_d2=T[2:len(T-2)]\n",
    "        d2=np.array(d2,'f')\n",
    "        d2_smooth=smooth(d2,win)\n",
    "        d2=list(d2)\n",
    "        d2_smooth=list(d2_smooth)\n",
    "        curie.append(T_d2[d2.index(max(d2))])    \n",
    "        curie_1.append(T_d2[d2_smooth.index(max(d2_smooth))])    \n",
    "\n",
    "    #plot Curie temp for different sliding window length\n",
    "    plt.figure(num=PLT['Curie'],figsize=(5,5))\n",
    "    pmagplotlib.plotXY(PLT['Curie'],wn,curie,sym='.',xlab='Sliding Window Width (degrees)',ylab='Curie Temp',title='Curie Statistics')    \n",
    "    files = {}\n",
    "    for key in PLT.keys(): files[key]=str(key) + '.' + fmt\n",
    "    if save == True:\n",
    "        for key in PLT.keys():\n",
    "            try:\n",
    "                plt.figure(num=PLT[key])\n",
    "                plt.savefig(save_folder + '/' + files[key].replace('/','-'))\n",
    "            except:\n",
    "                print 'could not save: ',PLT[key],files[key]\n",
    "                print \"output file format not supported \"\n",
    "    plt.show()"
   ]
  },
  {
   "cell_type": "code",
   "execution_count": null,
   "metadata": {
    "collapsed": false
   },
   "outputs": [],
   "source": [
    "curie(path_to_file='./PmagPy_Datafiles/curie/',file_name='curie_example.dat', save=True, save_folder='Notebook_Output')"
   ]
  },
  {
   "cell_type": "markdown",
   "metadata": {},
   "source": [
    "IPy Widgets are part of what makes the Jupyter notebook environment so powerful -- these widgets allow user interaction with figures. Below, we demonstrate how the above figures can be made interactive by passing the *curie* function's parameters to the ipy widget *interact*.\n",
    "\n",
    "*Note: If you do not have the ipywidgets package installed, you may choose to either install it through Anaconda or Enthought (depending on your Python distribution), manually install it (a bit more difficult), or simply skip the next block of code.*"
   ]
  },
  {
   "cell_type": "code",
   "execution_count": null,
   "metadata": {
    "collapsed": false
   },
   "outputs": [],
   "source": [
    "interact(curie, path_to_file='./PmagPy_Datafiles/curie/',file_name='curie_example.dat',window_length = (1,60));"
   ]
  },
  {
   "cell_type": "markdown",
   "metadata": {},
   "source": [
    "## Day plots"
   ]
  },
  {
   "cell_type": "markdown",
   "metadata": {},
   "source": [
    "Demonstration of Day plots, squareness/coercivity and squareness/coercivity of remanence diagrams using hysteresis data."
   ]
  },
  {
   "cell_type": "code",
   "execution_count": null,
   "metadata": {
    "collapsed": false
   },
   "outputs": [],
   "source": [
    "def dayplot(path_to_file = '.',hyst_file=\"rmag_hysteresis.txt\",\n",
    "            rem_file=\"rmag_remanence.txt\", save = False, save_folder='.', fmt = 'pdf'):\n",
    "    \"\"\"\n",
    "    Makes 'day plots' (Day et al. 1977) and squareness/coercivity plots\n",
    "    (Neel, 1955; plots after Tauxe et al., 2002); plots 'linear mixing' \n",
    "    curve from Dunlop and Carter-Stiglitz (2006).\n",
    "\n",
    "    Optional Keywords (defaults are used if not specified)\n",
    "    ----------\n",
    "    path_to_file : path to directory that contains files (default is current directory, '.')\n",
    "    hyst_file : hysteresis file (default is 'rmag_hysteresis.txt')\n",
    "    rem_file : remanence file (default is 'rmag_remanence.txt')\n",
    "    save : boolean argument to save plots (default is False)\n",
    "    save_folder : relative directory where plots will be saved (default is current directory, '.')\n",
    "    fmt : format of saved figures (default is 'pdf')\n",
    "    \"\"\"\n",
    "    args=sys.argv\n",
    "    hyst_path = os.path.join(path_to_file,hyst_file)\n",
    "    rem_path = os.path.join(path_to_file,rem_file)\n",
    "    #hyst_file,rem_file=\"rmag_hysteresis.txt\",\"rmag_remanence.txt\"\n",
    "    dir_path = path_to_file\n",
    "    verbose=pmagplotlib.verbose\n",
    "    # initialize some variables\n",
    "    # define figure numbers for Day,S-Bc,S-Bcr\n",
    "    DSC={}\n",
    "    DSC['day'],DSC['S-Bc'],DSC['S-Bcr'],DSC['bcr1-bcr2']=1,2,3,4\n",
    "    plt.figure(num=DSC['day'],figsize=(5,5));\n",
    "    plt.figure(num=DSC['S-Bc'],figsize=(5,5));\n",
    "    plt.figure(num=DSC['S-Bcr'],figsize=(5,5));\n",
    "    plt.figure(num=DSC['bcr1-bcr2'],figsize=(5,5));\n",
    "    hyst_data,file_type=pmag.magic_read(hyst_path)\n",
    "    rem_data,file_type=pmag.magic_read(rem_path)\n",
    "    S,BcrBc,Bcr2,Bc,hsids,Bcr=[],[],[],[],[],[]\n",
    "    Ms,Bcr1,Bcr1Bc,S1=[],[],[],[]\n",
    "    locations=''\n",
    "    for rec in  hyst_data:\n",
    "        if 'er_location_name' in rec.keys() and rec['er_location_name'] not in locations: locations=locations+rec['er_location_name']+'_'\n",
    "        if rec['hysteresis_bcr'] !=\"\" and rec['hysteresis_mr_moment']!=\"\": \n",
    "            S.append(float(rec['hysteresis_mr_moment'])/float(rec['hysteresis_ms_moment']))\n",
    "            Bcr.append(float(rec['hysteresis_bcr']))\n",
    "            Bc.append(float(rec['hysteresis_bc']))\n",
    "            BcrBc.append(Bcr[-1]/Bc[-1]) \n",
    "            if 'er_synthetic_name' in rec.keys() and rec['er_synthetic_name']!=\"\":\n",
    "                rec['er_specimen_name']=rec['er_synthetic_name']\n",
    "            hsids.append(rec['er_specimen_name'])\n",
    "    if len(rem_data)>0:\n",
    "        for rec in  rem_data:\n",
    "            if rec['remanence_bcr'] !=\"\" and float(rec['remanence_bcr'])>0:\n",
    "                try:\n",
    "                    ind=hsids.index(rec['er_specimen_name'])\n",
    "                    Bcr1.append(float(rec['remanence_bcr']))\n",
    "                    Bcr1Bc.append(Bcr1[-1]/Bc[ind])\n",
    "                    S1.append(S[ind])\n",
    "                    Bcr2.append(Bcr[ind])\n",
    "                except ValueError:\n",
    "                    if verbose:print 'hysteresis data for ',rec['er_specimen_name'],' not found'\n",
    "    #\n",
    "    # now plot the day and S-Bc, S-Bcr plots\n",
    "    #\n",
    "    leglist=[]\n",
    "    if len(Bcr1)>0:\n",
    "        pmagplotlib.plotDay(DSC['day'],Bcr1Bc,S1,'ro')\n",
    "        pmagplotlib.plotSBcr(DSC['S-Bcr'],Bcr1,S1,'ro')\n",
    "        pmagplotlib.plot_init(DSC['bcr1-bcr2'],5,5)\n",
    "        pmagplotlib.plotBcr(DSC['bcr1-bcr2'],Bcr1,Bcr2)\n",
    "        plt.show()\n",
    "    else:\n",
    "        del DSC['bcr1-bcr2']\n",
    "    if save==True:\n",
    "        pmagplotlib.plotDay(DSC['day'],BcrBc,S,'bs')\n",
    "        plt.savefig(os.path.join(save_folder,'Day.' + fmt))\n",
    "        pmagplotlib.plotSBcr(DSC['S-Bcr'],Bcr,S,'bs')\n",
    "        plt.savefig(os.path.join(save_folder,'S-Bcr.' + fmt))\n",
    "        pmagplotlib.plotSBc(DSC['S-Bc'],Bc,S,'bs')\n",
    "        plt.savefig(os.path.join(save_folder,'S-Bc.' + fmt))\n",
    "    else:\n",
    "        pmagplotlib.plotDay(DSC['day'],BcrBc,S,'bs')\n",
    "        pmagplotlib.plotSBcr(DSC['S-Bcr'],Bcr,S,'bs') \n",
    "        pmagplotlib.plotSBc(DSC['S-Bc'],Bc,S,'bs')\n",
    "        plt.show()"
   ]
  },
  {
   "cell_type": "code",
   "execution_count": null,
   "metadata": {
    "collapsed": false
   },
   "outputs": [],
   "source": [
    "dayplot(path_to_file='./PmagPy_Datafiles/dayplot_magic/', hyst_file='dayplot_magic_example.dat',save=True,save_folder='Notebook_Output/');"
   ]
  },
  {
   "cell_type": "markdown",
   "metadata": {},
   "source": [
    "## Hysteresis Loops"
   ]
  },
  {
   "cell_type": "code",
   "execution_count": null,
   "metadata": {
    "collapsed": false
   },
   "outputs": [],
   "source": [
    "def hysteresis_magic(path_to_file = '.',hyst_file=\"rmag_hysteresis.txt\", \n",
    "                     save = False, save_folder = '.', fmt = \"svg\"):\n",
    "    \"\"\"\n",
    "    Calculates hysteresis parameters, saves them in rmag_hysteresis format file,\n",
    "    and makes hysteresis plots if option selected.\n",
    "    \n",
    "    Optional Keywords (defaults are used if not specified)\n",
    "    ----------\n",
    "    path_to_file : path to directory that contains files (default is current directory, '.')\n",
    "    hyst_file : hysteresis file (default is 'rmag_hysteresis.txt')\n",
    "    save : boolean argument to save plots (default is False)\n",
    "    save_folder : relative directory where plots will be saved (default is current directory, '.')\n",
    "    fmt : format of saved figures (default is 'pdf')\n",
    "    \"\"\"\n",
    "    args=sys.argv\n",
    "    PLT=1\n",
    "    plots=0\n",
    "    user,meas_file,rmag_out,rmag_file=\"\",\"agm_measurements.txt\",\"rmag_hysteresis.txt\",\"\"\n",
    "    pltspec=\"\"\n",
    "    dir_path='.'\n",
    "    verbose=pmagplotlib.verbose\n",
    "    version_num=pmag.get_version()\n",
    "    rmag_out=dir_path+'/'+rmag_out\n",
    "    meas_file=path_to_file+'/'+hyst_file\n",
    "    rmag_rem=dir_path+\"/rmag_remanence.txt\"\n",
    "    #\n",
    "    #\n",
    "    meas_data,file_type=pmag.magic_read(meas_file)\n",
    "    if file_type!='magic_measurements':\n",
    "        print hysteresis_magic.__doc__\n",
    "        print 'bad file'\n",
    "        sys.exit()\n",
    "    #\n",
    "    # initialize some variables\n",
    "    # define figure numbers for hyst,deltaM,DdeltaM curves\n",
    "    HystRecs,RemRecs=[],[]\n",
    "    HDD={}\n",
    "    if verbose:\n",
    "        if verbose and PLT:print \"Plots may be on top of each other - use mouse to place \"\n",
    "    if PLT:\n",
    "        HDD['hyst'],HDD['deltaM'],HDD['DdeltaM']=1,2,3\n",
    "        plt.figure(num=HDD['DdeltaM'],figsize=(5,5))\n",
    "        plt.figure(num=HDD['deltaM'],figsize=(5,5))\n",
    "        plt.figure(num=HDD['hyst'],figsize=(5,5))\n",
    "        imag_init=0\n",
    "        irm_init=0\n",
    "    else:\n",
    "        HDD['hyst'],HDD['deltaM'],HDD['DdeltaM'],HDD['irm'],HDD['imag']=0,0,0,0,0\n",
    "    #\n",
    "    if rmag_file!=\"\":hyst_data,file_type=pmag.magic_read(rmag_file)\n",
    "    #\n",
    "    # get list of unique experiment names and specimen names\n",
    "    #\n",
    "    experiment_names,sids=[],[]\n",
    "    for rec in meas_data: \n",
    "        meths=rec['magic_method_codes'].split(':')\n",
    "        methods=[]\n",
    "        for meth in meths:\n",
    "            methods.append(meth.strip())\n",
    "        if 'LP-HYS' in methods:\n",
    "            if 'er_synthetic_name' in rec.keys() and rec['er_synthetic_name']!=\"\":\n",
    "                rec['er_specimen_name']=rec['er_synthetic_name']\n",
    "            if rec['magic_experiment_name'] not in experiment_names:experiment_names.append(rec['magic_experiment_name'])\n",
    "            if rec['er_specimen_name'] not in sids:sids.append(rec['er_specimen_name'])\n",
    "    #\n",
    "    k=0\n",
    "    locname=''\n",
    "    if pltspec!=\"\":\n",
    "        k=sids.index(pltspec)\n",
    "        print sids[k]\n",
    "    while k < len(sids):\n",
    "        s=sids[k]\n",
    "        if verbose and PLT:print s, k+1 , 'out of ',len(sids)\n",
    "    #\n",
    "    #\n",
    "        B,M,Bdcd,Mdcd=[],[],[],[] #B,M for hysteresis, Bdcd,Mdcd for irm-dcd data\n",
    "        Bimag,Mimag=[],[] #Bimag,Mimag for initial magnetization curves\n",
    "        first_dcd_rec,first_rec,first_imag_rec=1,1,1\n",
    "        for rec in  meas_data:\n",
    "            methcodes=rec['magic_method_codes'].split(':')\n",
    "            meths=[]\n",
    "            for meth in methcodes:\n",
    "                meths.append(meth.strip()) \n",
    "            if rec['er_specimen_name']==s and \"LP-HYS\" in meths:\n",
    "                B.append(float(rec['measurement_lab_field_dc']))\n",
    "                M.append(float(rec['measurement_magn_moment']))\n",
    "                if first_rec==1:\n",
    "                    e=rec['magic_experiment_name']\n",
    "                    HystRec={}\n",
    "                    first_rec=0\n",
    "                    if \"er_location_name\" in rec.keys():\n",
    "                        HystRec[\"er_location_name\"]=rec[\"er_location_name\"]\n",
    "                        locname=rec['er_location_name'].replace('/','-')\n",
    "                    if \"er_sample_name\" in rec.keys():HystRec[\"er_sample_name\"]=rec[\"er_sample_name\"]\n",
    "                    if \"er_site_name\" in rec.keys():HystRec[\"er_site_name\"]=rec[\"er_site_name\"]\n",
    "                    if \"er_synthetic_name\" in rec.keys() and rec['er_synthetic_name']!=\"\":\n",
    "                        HystRec[\"er_synthetic_name\"]=rec[\"er_synthetic_name\"]\n",
    "                    else:\n",
    "                        HystRec[\"er_specimen_name\"]=rec[\"er_specimen_name\"]\n",
    "            if rec['er_specimen_name']==s and \"LP-IRM-DCD\" in meths:\n",
    "                Bdcd.append(float(rec['treatment_dc_field']))\n",
    "                Mdcd.append(float(rec['measurement_magn_moment']))\n",
    "                if first_dcd_rec==1:\n",
    "                    RemRec={}\n",
    "                    irm_exp=rec['magic_experiment_name']\n",
    "                    first_dcd_rec=0\n",
    "                    if \"er_location_name\" in rec.keys():RemRec[\"er_location_name\"]=rec[\"er_location_name\"]\n",
    "                    if \"er_sample_name\" in rec.keys():RemRec[\"er_sample_name\"]=rec[\"er_sample_name\"]\n",
    "                    if \"er_site_name\" in rec.keys():RemRec[\"er_site_name\"]=rec[\"er_site_name\"]\n",
    "                    if \"er_synthetic_name\" in rec.keys() and rec['er_synthetic_name']!=\"\":\n",
    "                        RemRec[\"er_synthetic_name\"]=rec[\"er_synthetic_name\"]\n",
    "                    else:\n",
    "                        RemRec[\"er_specimen_name\"]=rec[\"er_specimen_name\"]\n",
    "            if rec['er_specimen_name']==s and \"LP-IMAG\" in meths:\n",
    "                if first_imag_rec==1:\n",
    "                    imag_exp=rec['magic_experiment_name']\n",
    "                    first_imag_rec=0\n",
    "                Bimag.append(float(rec['measurement_lab_field_dc']))\n",
    "                Mimag.append(float(rec['measurement_magn_moment']))\n",
    "    #\n",
    "    # now plot the hysteresis curve\n",
    "    #\n",
    "        if len(B)>0: \n",
    "            hmeths=[]\n",
    "            for meth in meths: hmeths.append(meth)  \n",
    "            hpars=pmagplotlib.plotHDD(HDD,B,M,e) \n",
    "            if verbose and PLT:pmagplotlib.drawFIGS(HDD)\n",
    "    #\n",
    "    # get prior interpretations from hyst_data\n",
    "            if rmag_file!=\"\":\n",
    "                hpars_prior={}\n",
    "                for rec in hyst_data:\n",
    "                    if rec['magic_experiment_names']==e:\n",
    "                        if rec['hysteresis_bcr'] !=\"\" and rec['hysteresis_mr_moment']!=\"\": \n",
    "                            hpars_prior['hysteresis_mr_moment']=rec['hysteresis_mr_moment']\n",
    "                            hpars_prior['hysteresis_ms_moment']=rec['hysteresis_ms_moment']\n",
    "                            hpars_prior['hysteresis_bc']=rec['hysteresis_bc']\n",
    "                            hpars_prior['hysteresis_bcr']=rec['hysteresis_bcr']\n",
    "                            break\n",
    "                if verbose:pmagplotlib.plotHPARS(HDD,hpars_prior,'ro')\n",
    "            else:\n",
    "                if verbose:pmagplotlib.plotHPARS(HDD,hpars,'bs')\n",
    "                HystRec['hysteresis_mr_moment']=hpars['hysteresis_mr_moment']\n",
    "                HystRec['hysteresis_ms_moment']=hpars['hysteresis_ms_moment']\n",
    "                HystRec['hysteresis_bc']=hpars['hysteresis_bc']\n",
    "                HystRec['hysteresis_bcr']=hpars['hysteresis_bcr']\n",
    "                HystRec['hysteresis_xhf']=hpars['hysteresis_xhf']\n",
    "                HystRec['magic_experiment_names']=e\n",
    "                HystRec['magic_software_packages']=version_num\n",
    "                if hpars[\"magic_method_codes\"] not in hmeths:hmeths.append(hpars[\"magic_method_codes\"])\n",
    "                methods=\"\"\n",
    "                for meth in hmeths:\n",
    "                    methods=methods+meth.strip()+\":\"\n",
    "                HystRec[\"magic_method_codes\"]=methods[:-1]\n",
    "                HystRec[\"er_citation_names\"]=\"This study\"\n",
    "                HystRecs.append(HystRec)\n",
    "    #\n",
    "        if len(Bdcd)>0: \n",
    "            rmeths=[]\n",
    "            for meth in meths: rmeths.append(meth)\n",
    "            if verbose and PLT:print 'plotting IRM'\n",
    "            if irm_init==0:\n",
    "                HDD['irm']=5\n",
    "                plt.figure(num=HDD['irm'],figsize=(5,5))\n",
    "                irm_init=1\n",
    "            rpars=pmagplotlib.plotIRM(HDD['irm'],Bdcd,Mdcd,irm_exp) \n",
    "            RemRec['remanence_mr_moment']=rpars['remanence_mr_moment']\n",
    "            RemRec['remanence_bcr']=rpars['remanence_bcr']\n",
    "            RemRec['magic_experiment_names']=irm_exp\n",
    "            if rpars[\"magic_method_codes\"] not in meths:meths.append(rpars[\"magic_method_codes\"])\n",
    "            methods=\"\"\n",
    "            for meth in rmeths:\n",
    "                methods=methods+meth.strip()+\":\"\n",
    "            RemRec[\"magic_method_codes\"]=methods[:-1]\n",
    "            RemRec[\"er_citation_names\"]=\"This study\"\n",
    "            RemRecs.append(RemRec)\n",
    "        else: \n",
    "            if irm_init:pmagplotlib.clearFIG(HDD['irm'])\n",
    "        if len(Bimag)>0: \n",
    "            if verbose:print 'plotting initial magnetization curve'\n",
    "# first normalize by Ms\n",
    "            Mnorm=[]\n",
    "            for m in Mimag: Mnorm.append(m/float(hpars['hysteresis_ms_moment']))\n",
    "            if imag_init==0:\n",
    "                HDD['imag']=4\n",
    "                plt.figure(num=HDD['imag'],figsize=(5,5))\n",
    "                imag_init=1\n",
    "            pmagplotlib.plotIMAG(HDD['imag'],Bimag,Mnorm,imag_exp) \n",
    "        else: \n",
    "            if imag_init:pmagplotlib.clearFIG(HDD['imag'])\n",
    "    #\n",
    "        files={}\n",
    "        if plots:\n",
    "            if pltspec!=\"\":s=pltspec\n",
    "            files={}\n",
    "            for key in HDD.keys():\n",
    "                files[key]=locname+'_'+s+'_'+key+'.'+fmt\n",
    "            pmagplotlib.saveP(HDD,files)\n",
    "            if pltspec!=\"\":sys.exit()\n",
    "        if verbose and PLT:\n",
    "            pmagplotlib.drawFIGS(HDD)\n",
    "            ans=raw_input(\"S[a]ve plots, [s]pecimen name, [q]uit, <return> to continue\\n \")\n",
    "            if ans==\"a\":\n",
    "                files={}\n",
    "                for key in HDD.keys():\n",
    "                    files[key]=locname+'_'+s+'_'+key+'.'+fmt\n",
    "                pmagplotlib.saveP(HDD,files)\n",
    "            if ans=='':k+=1\n",
    "            if ans==\"p\":\n",
    "                del HystRecs[-1]\n",
    "                k-=1\n",
    "            if  ans=='q': \n",
    "                print \"Good bye\"\n",
    "                sys.exit()\n",
    "            if ans=='s':\n",
    "                keepon=1\n",
    "                specimen=raw_input('Enter desired specimen name (or first part there of): ')\n",
    "                while keepon==1:\n",
    "                    try:\n",
    "                        k =sids.index(specimen)\n",
    "                        keepon=0\n",
    "                    except:\n",
    "                        tmplist=[]\n",
    "                        for qq in range(len(sids)):\n",
    "                            if specimen in sids[qq]:tmplist.append(sids[qq])\n",
    "                        print specimen,\" not found, but this was: \"\n",
    "                        print tmplist\n",
    "                        specimen=raw_input('Select one or try again\\n ')\n",
    "                        k =sids.index(specimen)\n",
    "        else:\n",
    "            k+=1\n",
    "        if len(B)==0 and len(Bdcd)==0:\n",
    "            if verbose:print 'skipping this one - no hysteresis data'\n",
    "            k+=1\n",
    "    if rmag_out==\"\" and ans=='s' and verbose:\n",
    "        really=raw_input(\" Do you want to overwrite the existing rmag_hystersis.txt file? 1/[0] \")\n",
    "        if really==\"\":\n",
    "            print 'i thought not - goodbye'\n",
    "            sys.exit()\n",
    "        rmag_out=\"rmag_hysteresis.txt\"\n",
    "    if len(HystRecs)>0 and verbose:\n",
    "        pmag.magic_write(rmag_out,HystRecs,\"rmag_hysteresis\")\n",
    "        print \"hysteresis parameters saved in \",rmag_out\n",
    "    if len(RemRecs)>0 and verbose:\n",
    "        pmag.magic_write(rmag_rem,RemRecs,\"rmag_remanence\")\n",
    "        print \"remanence parameters saved in \",rmag_rem"
   ]
  },
  {
   "cell_type": "code",
   "execution_count": null,
   "metadata": {
    "collapsed": false
   },
   "outputs": [],
   "source": [
    "hysteresis_magic(path_to_file='./PmagPy_Datafiles/hysteresis_magic/',hyst_file='hysteresis_magic_example.dat')"
   ]
  },
  {
   "cell_type": "code",
   "execution_count": null,
   "metadata": {
    "collapsed": true
   },
   "outputs": [],
   "source": []
  }
 ],
 "metadata": {
  "kernelspec": {
   "display_name": "Python 2",
   "language": "python",
   "name": "python2"
  },
  "language_info": {
   "codemirror_mode": {
    "name": "ipython",
    "version": 2
   },
   "file_extension": ".py",
   "mimetype": "text/x-python",
   "name": "python",
   "nbconvert_exporter": "python",
   "pygments_lexer": "ipython2",
   "version": "2.7.11"
  }
 },
 "nbformat": 4,
 "nbformat_minor": 0
}
