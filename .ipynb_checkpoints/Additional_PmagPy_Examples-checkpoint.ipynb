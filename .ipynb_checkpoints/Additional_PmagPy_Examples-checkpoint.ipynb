{
 "cells": [
  {
   "cell_type": "markdown",
   "metadata": {},
   "source": [
    "# Jupyter notebook demonstrating the use of additional PmagPy functions"
   ]
  },
  {
   "cell_type": "markdown",
   "metadata": {},
   "source": [
    "To dos:\n",
    "\n",
    "### ipmag functions to be made:\n",
    "\n",
    "- [x] ipmag.bootstrap_reversal_test (wrapper function that finds the 2 modes to the data and then applies ipmag.bootstrap_common_mean)\n",
    "- [x] ipmag.MM1990_reversal_test (wrapper function that finds the 2 modes to the data and then applies ipmag.watson_common_mean()\n",
    "- [x] ipmag.find_EI()\n",
    "- [x] ipmag.dmag_magic()\n",
    "\n",
    "*A few questions about the functions above, particularly the reversal test functions and mplstereonet*\n",
    "\n",
    "### make it so that plots can optionally be saved out of \n",
    "\n",
    "- [x] ipmag.bootstrap_fold_test\n",
    "- [ ] ipmag.bootstrap_common_mean\n",
    "- [ ] ipmag.watson_common_mean\n",
    "\n",
    "### [ ]update ipmag.vgp_calc and ipmag.sb_vgp_calc so that column fields can be specified\n",
    "\n",
    "### [ ]update function comments for aniso_depthplot and for new ones in notebook to match the style of the others\n",
    "\n",
    "### ipmag/pmag functions that already exist that should be demonstrated:\n",
    "\n",
    "- [x] ipmag.fishqq\n",
    "- [x] ipmag.squish (grab data out of a Fisher distribution. Squish it and plot it and then apply ipmag.find_EI) \n",
    "- [ ] ipmag.igrf (pull it out and plot it for a given location, use the pmag.pinc function to show the GAD inclination at specified (paleo) latitude)\n",
    "- [ ] ipmag.vgp_calc (use this on some directional data and then plot using: ipmag.plot_pole\n",
    "- [ ] ipmag.plot_vgp\n",
    "- [ ] ipmag.sb_vgp_calc\n",
    "- [ ] ipmag.download_magic"
   ]
  },
  {
   "cell_type": "markdown",
   "metadata": {},
   "source": [
    "This Jupyter/IPython notebook demonstrates the use of a number of PmagPy functions within a notebook environment. The benefits of working within these notebooks include but are not limited to scientific reproducibility; coherent code development; convenient workspace for projects; and version control (when integrated with GitHub or other version control software).\n",
    "\n",
    "### Table of Contents\n",
    "**Miscellaneous**\n",
    "* [The Dipole Equation](#The-dipole-equation)\n",
    "* [Calculating the Angle Between Two Directions](#Angle-between-directions)\n",
    "* [Fisher-Distributed Directions](#Generate-and-plot-Fisher-distributed-unit-vectors-from-a-specified-distribution)\n",
    "* [Flip Directional Data](#Flip-polarity-of-directional-data)\n",
    "* [Test for Fisher-Distributed Directions](#Test-directional-data-for-Fisher-distribution)\n",
    "* [Simulating Inclination Error in Paleomagnetic Data](#Squish-directional-data)\n",
    "* [Correcting for Inclination Error in Paleomagnetic Data](#Unsquish-directional-data)\n",
    "* [Bootstrap Reversal Test](#Bootstrap-Reversal-Test)\n",
    "* [McFadden and McElhinny (1990) Reversal Test](#MM1990)\n",
    "* [Plotting and Analyzing Anisotropy Data](#Working-with-anisotropy-data)\n",
    "\n",
    "**Using Matplotlib's Basemap Package**\n",
    "* [Working with Poles](#Working-with-poles)\n",
    "\n",
    "**Susceptibility Data Analysis**\n",
    "* [Example Susceptibility Data Analysis](#Susceptibility-vs.-temperature,-applied-field-and-frequency)\n",
    "* [Working with Curie Temperature Data](#Curie-temperature-data)\n",
    "\n",
    "**Hysteresis Data**\n",
    "* [Day Plots](#Day-plots)\n",
    "* [Hysteresis Loops](#Hysteresis-Loops)\n",
    "\n",
    "**Additional Features of the Jupyter Notebook**\n",
    "* [Interactive Plotting](#Interactive-plotting)\n",
    "\n",
    "**Note: This notebook makes heavy use of pandas for reading, displaying, and using data. More information about the pandas module and its use within PmagPy can be found [here](http://earthref.org/PmagPy/cookbook/#x1-1850007.4) within the documentation of the [PmagPy cookbook](http://earthref.org/PmagPy/cookbook/).**"
   ]
  },
  {
   "cell_type": "code",
   "execution_count": 1,
   "metadata": {
    "collapsed": false
   },
   "outputs": [],
   "source": [
    "import sys, os\n",
    "\n",
    "# import PmagPy modules\n",
    "# NOTE: make sure your PmagPy folder is in your PYTHONPATH\n",
    "import pmagpy.ipmag as ipmag\n",
    "import pmagpy.pmagplotlib as pmagplotlib\n",
    "import pmagpy.ipmagplotlib as ipmagplotlib\n",
    "import pmagpy.pmag as pmag\n",
    "\n",
    "from mpl_toolkits.basemap import Basemap\n",
    "import numpy as np\n",
    "import pandas as pd\n",
    "import matplotlib.pyplot as plt\n",
    "%matplotlib inline"
   ]
  },
  {
   "cell_type": "markdown",
   "metadata": {
    "collapsed": true
   },
   "source": [
    "## The dipole equation"
   ]
  },
  {
   "cell_type": "code",
   "execution_count": 2,
   "metadata": {
    "collapsed": true
   },
   "outputs": [],
   "source": [
    "inclination = range(0,90,1)\n",
    "latitude = []\n",
    "for inc in inclination:\n",
    "    lat = ipmag.lat_from_inc(inc)\n",
    "    latitude.append(lat)"
   ]
  },
  {
   "cell_type": "code",
   "execution_count": 3,
   "metadata": {
    "collapsed": false
   },
   "outputs": [
    {
     "data": {
      "image/png": "[encoded data removed]",
      "text/plain": [
       "<matplotlib.figure.Figure at 0x1133b8e10>"
      ]
     },
     "metadata": {},
     "output_type": "display_data"
    }
   ],
   "source": [
    "plt.plot(inclination,latitude)\n",
    "plt.ylabel('latitude')\n",
    "plt.xlabel('inclination')\n",
    "plt.show()"
   ]
  },
  {
   "cell_type": "markdown",
   "metadata": {},
   "source": [
    "## Angle between directions"
   ]
  },
  {
   "cell_type": "code",
   "execution_count": 4,
   "metadata": {
    "collapsed": false
   },
   "outputs": [
    {
     "data": {
      "text/plain": [
       "array([ 103.00072744])"
      ]
     },
     "execution_count": 4,
     "metadata": {},
     "output_type": "execute_result"
    }
   ],
   "source": [
    "direction1 = [150,-40]\n",
    "direction2 = [120,60]\n",
    "\n",
    "pmag.angle(direction1,direction2)"
   ]
  },
  {
   "cell_type": "markdown",
   "metadata": {},
   "source": [
    "## Generate and plot Fisher distributed unit vectors from a specified distribution"
   ]
  },
  {
   "cell_type": "code",
   "execution_count": 5,
   "metadata": {
    "collapsed": false
   },
   "outputs": [
    {
     "data": {
      "text/html": [
       "<div>\n",
       "<table border=\"1\" class=\"dataframe\">\n",
       "  <thead>\n",
       "    <tr style=\"text-align: right;\">\n",
       "      <th></th>\n",
       "      <th>dec</th>\n",
       "      <th>inc</th>\n",
       "      <th>length</th>\n",
       "    </tr>\n",
       "  </thead>\n",
       "  <tbody>\n",
       "    <tr>\n",
       "      <th>0</th>\n",
       "      <td>192.137814</td>\n",
       "      <td>41.508867</td>\n",
       "      <td>1</td>\n",
       "    </tr>\n",
       "    <tr>\n",
       "      <th>1</th>\n",
       "      <td>209.079589</td>\n",
       "      <td>45.131873</td>\n",
       "      <td>1</td>\n",
       "    </tr>\n",
       "    <tr>\n",
       "      <th>2</th>\n",
       "      <td>202.306758</td>\n",
       "      <td>46.003912</td>\n",
       "      <td>1</td>\n",
       "    </tr>\n",
       "    <tr>\n",
       "      <th>3</th>\n",
       "      <td>158.638747</td>\n",
       "      <td>55.178112</td>\n",
       "      <td>1</td>\n",
       "    </tr>\n",
       "    <tr>\n",
       "      <th>4</th>\n",
       "      <td>194.180993</td>\n",
       "      <td>42.612169</td>\n",
       "      <td>1</td>\n",
       "    </tr>\n",
       "  </tbody>\n",
       "</table>\n",
       "</div>"
      ],
      "text/plain": [
       "          dec        inc  length\n",
       "0  192.137814  41.508867       1\n",
       "1  209.079589  45.131873       1\n",
       "2  202.306758  46.003912       1\n",
       "3  158.638747  55.178112       1\n",
       "4  194.180993  42.612169       1"
      ]
     },
     "execution_count": 5,
     "metadata": {},
     "output_type": "execute_result"
    }
   ],
   "source": [
    "fisher_directions = ipmag.fishrot(k=40, n=50, Dec=200, Inc=45)\n",
    "directions = pd.DataFrame(fisher_directions,columns=['dec','inc','length'])\n",
    "directions.head()"
   ]
  },
  {
   "cell_type": "code",
   "execution_count": 6,
   "metadata": {
    "collapsed": false
   },
   "outputs": [
    {
     "name": "stdout",
     "output_type": "stream",
     "text": [
      "Dec: 198.5  Inc: 46.6\n",
      "Number of directions in mean (n): 50\n",
      "Angular radius of 95% confidence (a_95): 3.4\n",
      "Precision parameter (k) estimate: 35.7\n"
     ]
    }
   ],
   "source": [
    "fisher_mean = ipmag.fisher_mean(directions.dec,directions.inc)\n",
    "bingham_mean = ipmag.bingham_mean(directions.dec,directions.inc)\n",
    "\n",
    "ipmag.print_direction_mean(fisher_mean)"
   ]
  },
  {
   "cell_type": "code",
   "execution_count": 7,
   "metadata": {
    "collapsed": false
   },
   "outputs": [
    {
     "name": "stdout",
     "output_type": "stream",
     "text": [
      "Dec: 198.5  Inc: 46.6\n",
      "Number of directions in mean (n): 50\n",
      "Angular radius of 95% confidence (a_95): 3.4\n",
      "Precision parameter (k) estimate: 35.7\n"
     ]
    },
    {
     "data": {
      "image/png": "[encoded data removed]",
      "text/plain": [
       "<matplotlib.figure.Figure at 0x113418890>"
      ]
     },
     "metadata": {},
     "output_type": "display_data"
    }
   ],
   "source": [
    "declinations, inclinations = ipmag.fishrot(k=40, n=50, Dec=200, Inc=45, DIBlock=False)\n",
    "\n",
    "plt.figure(num=1,figsize=(6,6))\n",
    "ipmag.plot_net(1)\n",
    "ipmag.plot_di(declinations,inclinations)\n",
    "ipmag.plot_di_mean(fisher_mean['dec'],fisher_mean['inc'],fisher_mean['alpha95'],color='r')\n",
    "\n",
    "# print out the raw fisher mean data above the equal area plot\n",
    "ipmag.print_direction_mean(fisher_mean)"
   ]
  },
  {
   "cell_type": "markdown",
   "metadata": {},
   "source": [
    "## Flip polarity of directional data"
   ]
  },
  {
   "cell_type": "markdown",
   "metadata": {},
   "source": [
    "Let's resolve the antipodes of the Fisher-distributed directions we just created using the function flip() function."
   ]
  },
  {
   "cell_type": "code",
   "execution_count": 8,
   "metadata": {
    "collapsed": false
   },
   "outputs": [
    {
     "data": {
      "image/png": "[encoded data removed]",
      "text/plain": [
       "<matplotlib.figure.Figure at 0x113c77610>"
      ]
     },
     "metadata": {},
     "output_type": "display_data"
    }
   ],
   "source": [
    "# get reversed directions\n",
    "reverse = ipmag.flip(ipmag.make_di_block(declinations,inclinations))\n",
    "rev_directions = pd.DataFrame(reverse,columns=['dec','inc','length'])\n",
    "\n",
    "# take the Fisher mean of these reversed directions\n",
    "rev_mean = ipmag.fisher_mean(rev_directions.dec,rev_directions.inc)\n",
    "\n",
    "# plot the directions in opposite polarity\n",
    "plt.figure(num=1,figsize=(6,6))\n",
    "ipmag.plot_net(1)\n",
    "ipmag.plot_di(rev_directions.dec, rev_directions.inc)\n",
    "ipmag.plot_di_mean(rev_mean['dec'],rev_mean['inc'],rev_mean['alpha95'],color='r',marker='s')"
   ]
  },
  {
   "cell_type": "markdown",
   "metadata": {},
   "source": [
    "## Test directional data for Fisher distribution"
   ]
  },
  {
   "cell_type": "markdown",
   "metadata": {},
   "source": [
    "The ipmag function fishqq tests whether directional data is Fisher-distributed. Let's use this test on the random Fisher-distributed directions we just created (it should pass!). "
   ]
  },
  {
   "cell_type": "code",
   "execution_count": 9,
   "metadata": {
    "collapsed": false
   },
   "outputs": [
    {
     "data": {
      "text/plain": [
       "{'Dec': 199.91370186393598,\n",
       " 'Inc': 46.885726416103871,\n",
       " 'Me': 0.8140209275128808,\n",
       " 'Me_critical': 1.094,\n",
       " 'Mode': 'Mode 1',\n",
       " 'Mu': 0.88143529857732128,\n",
       " 'Mu_critical': 1.207,\n",
       " 'N': 50,\n",
       " 'Test_result': 'consistent with Fisherian model'}"
      ]
     },
     "execution_count": 9,
     "metadata": {},
     "output_type": "execute_result"
    },
    {
     "data": {
      "image/png": "[encoded data removed]",
      "text/plain": [
       "<matplotlib.figure.Figure at 0x113570250>"
      ]
     },
     "metadata": {},
     "output_type": "display_data"
    },
    {
     "data": {
      "image/png": "[encoded data removed]",
      "text/plain": [
       "<matplotlib.figure.Figure at 0x1140c7ad0>"
      ]
     },
     "metadata": {},
     "output_type": "display_data"
    }
   ],
   "source": [
    "ipmag.fishqq(declinations, inclinations)"
   ]
  },
  {
   "cell_type": "markdown",
   "metadata": {},
   "source": [
    "## Squish directional data"
   ]
  },
  {
   "cell_type": "code",
   "execution_count": 10,
   "metadata": {
    "collapsed": false
   },
   "outputs": [
    {
     "data": {
      "image/png": "[encoded data removed]",
      "text/plain": [
       "<matplotlib.figure.Figure at 0x113570150>"
      ]
     },
     "metadata": {},
     "output_type": "display_data"
    }
   ],
   "source": [
    "# squish all inclinations\n",
    "squished_incs = []\n",
    "for inclination in inclinations:\n",
    "    squished_incs.append(ipmag.squish(0.4, inclination))\n",
    "\n",
    "# plot the squished directional data\n",
    "plt.figure(num=1,figsize=(6,6))\n",
    "ipmag.plot_net(1)\n",
    "ipmag.plot_di(declinations,squished_incs)\n",
    "squished_DIs = np.array(zip(declinations,squished_incs))"
   ]
  },
  {
   "cell_type": "markdown",
   "metadata": {},
   "source": [
    "## Unsquish directional data"
   ]
  },
  {
   "cell_type": "code",
   "execution_count": 11,
   "metadata": {
    "collapsed": false
   },
   "outputs": [
    {
     "data": {
      "image/png": "[encoded data removed]",
      "text/plain": [
       "<matplotlib.figure.Figure at 0x1146a7290>"
      ]
     },
     "metadata": {},
     "output_type": "display_data"
    }
   ],
   "source": [
    "unsquished_incs = []\n",
    "for squished_inc in squished_incs:\n",
    "    unsquished_incs.append(ipmag.unsquish(0.4, squished_inc))\n",
    "\n",
    "# plot the squished directional data\n",
    "plt.figure(num=1,figsize=(6,6))\n",
    "ipmag.plot_net(1)\n",
    "ipmag.plot_di(declinations,unsquished_incs)"
   ]
  },
  {
   "cell_type": "markdown",
   "metadata": {},
   "source": [
    "## Bootstrap Reversal Test"
   ]
  },
  {
   "cell_type": "markdown",
   "metadata": {},
   "source": [
    "Let's combine the normal and reversed directions from above to simulate a multidirectional data set. We can then carry out two types of reversal tests with **ipmag** to test for bipolarity: the bootstrap reversal test and the McFadden and McElhinny (1990) reversal test. "
   ]
  },
  {
   "cell_type": "code",
   "execution_count": 12,
   "metadata": {
    "collapsed": false
   },
   "outputs": [
    {
     "data": {
      "text/html": [
       "<div>\n",
       "<table border=\"1\" class=\"dataframe\">\n",
       "  <thead>\n",
       "    <tr style=\"text-align: right;\">\n",
       "      <th></th>\n",
       "      <th>dec</th>\n",
       "      <th>inc</th>\n",
       "      <th>length</th>\n",
       "    </tr>\n",
       "  </thead>\n",
       "  <tbody>\n",
       "    <tr>\n",
       "      <th>0</th>\n",
       "      <td>192.137814</td>\n",
       "      <td>41.508867</td>\n",
       "      <td>1</td>\n",
       "    </tr>\n",
       "    <tr>\n",
       "      <th>1</th>\n",
       "      <td>209.079589</td>\n",
       "      <td>45.131873</td>\n",
       "      <td>1</td>\n",
       "    </tr>\n",
       "    <tr>\n",
       "      <th>2</th>\n",
       "      <td>202.306758</td>\n",
       "      <td>46.003912</td>\n",
       "      <td>1</td>\n",
       "    </tr>\n",
       "    <tr>\n",
       "      <th>3</th>\n",
       "      <td>158.638747</td>\n",
       "      <td>55.178112</td>\n",
       "      <td>1</td>\n",
       "    </tr>\n",
       "    <tr>\n",
       "      <th>4</th>\n",
       "      <td>194.180993</td>\n",
       "      <td>42.612169</td>\n",
       "      <td>1</td>\n",
       "    </tr>\n",
       "  </tbody>\n",
       "</table>\n",
       "</div>"
      ],
      "text/plain": [
       "          dec        inc  length\n",
       "0  192.137814  41.508867       1\n",
       "1  209.079589  45.131873       1\n",
       "2  202.306758  46.003912       1\n",
       "3  158.638747  55.178112       1\n",
       "4  194.180993  42.612169       1"
      ]
     },
     "execution_count": 12,
     "metadata": {},
     "output_type": "execute_result"
    }
   ],
   "source": [
    "bipolar_dirs = directions.append(rev_directions)\n",
    "bipolar_dirs.reset_index(inplace=True, drop='index')\n",
    "bipolar_dirs.head()"
   ]
  },
  {
   "cell_type": "code",
   "execution_count": 13,
   "metadata": {
    "collapsed": false
   },
   "outputs": [
    {
     "data": {
      "image/png": "[encoded data removed]",
      "text/plain": [
       "<matplotlib.figure.Figure at 0x113e6d150>"
      ]
     },
     "metadata": {},
     "output_type": "display_data"
    }
   ],
   "source": [
    "plt.figure(num=1,figsize=(6,6))\n",
    "ipmag.plot_net(1)\n",
    "ipmag.plot_di(bipolar_dirs.dec,bipolar_dirs.inc)"
   ]
  },
  {
   "cell_type": "code",
   "execution_count": 14,
   "metadata": {
    "collapsed": false,
    "scrolled": false
   },
   "outputs": [
    {
     "name": "stdout",
     "output_type": "stream",
     "text": [
      "Here are the results of the bootstrap test for a common mean:\n"
     ]
    },
    {
     "data": {
      "image/png": "[encoded data removed]",
      "text/plain": [
       "<matplotlib.figure.Figure at 0x114345450>"
      ]
     },
     "metadata": {},
     "output_type": "display_data"
    },
    {
     "data": {
      "image/png": "[encoded data removed]",
      "text/plain": [
       "<matplotlib.figure.Figure at 0x113f5f950>"
      ]
     },
     "metadata": {},
     "output_type": "display_data"
    }
   ],
   "source": [
    "ipmag.bootstrap_reversal_test(bipolar_dirs.dec.tolist(), \n",
    "                              bipolar_dirs.inc.tolist(), \n",
    "                              plot_stereo=True, save=True, \n",
    "                              save_folder='./Notebook_Output/')"
   ]
  },
  {
   "cell_type": "markdown",
   "metadata": {},
   "source": [
    "<a id='MM1990'></a>\n",
    "## McFadden and McElhinny (1990) Reversal Test"
   ]
  },
  {
   "cell_type": "code",
   "execution_count": 15,
   "metadata": {
    "collapsed": false
   },
   "outputs": [
    {
     "name": "stdout",
     "output_type": "stream",
     "text": [
      "Results of Watson V test: \n",
      "\n",
      "Watson's V:           0.3\n",
      "Critical value of V:  6.2\n",
      "\"Pass\": Since V is less than Vcrit, the null hypothesis\n",
      "that the two populations are drawn from distributions\n",
      "that share a common mean direction can not be rejected.\n",
      "\n",
      "M&M1990 classification:\n",
      "\n",
      "Angle between data set means: 1.0\n",
      "Critical angle for M&M1990:   4.8\n",
      "The McFadden and McElhinny (1990) classification for\n",
      "this test is: 'A'\n"
     ]
    },
    {
     "data": {
      "image/png": "[encoded data removed]",
      "text/plain": [
       "<matplotlib.figure.Figure at 0x113585a90>"
      ]
     },
     "metadata": {},
     "output_type": "display_data"
    },
    {
     "data": {
      "image/png": "[encoded data removed]",
      "text/plain": [
       "<matplotlib.figure.Figure at 0x114a0ef50>"
      ]
     },
     "metadata": {},
     "output_type": "display_data"
    }
   ],
   "source": [
    "ipmag.MM1990_reversal_test(bipolar_dirs.dec.tolist(), \n",
    "                           bipolar_dirs.inc.tolist(), \n",
    "                           plot_CDF=True, plot_stereo=True, \n",
    "                           save=True, save_folder= './Notebook_Output/')"
   ]
  },
  {
   "cell_type": "code",
   "execution_count": 20,
   "metadata": {
    "collapsed": false
   },
   "outputs": [],
   "source": [
    "from IPython.display import clear_output\n",
    "\n",
    "def EI(inc):\n",
    "    poly_tk03= [3.15976125e-06,  -3.52459817e-04,  -1.46641090e-02,   2.89538539e+00]  \n",
    "    return poly_tk03[0]*inc**3 + poly_tk03[1]*inc**2+poly_tk03[2]*inc+poly_tk03[3]\n",
    "\n",
    "\n",
    "def find_f(data):\n",
    "    rad=np.pi/180.\n",
    "    Es,Is,Fs,V2s=[],[],[],[]\n",
    "    ppars = pmag.doprinc(data)\n",
    "    D=ppars['dec']\n",
    "    Decs,Incs=data.transpose()[0],data.transpose()[1]\n",
    "    Tan_Incs=np.tan(Incs*rad)\n",
    "    for f in np.arange(1.,.2 ,-.01):\n",
    "        U=np.arctan((1./f)*Tan_Incs)/rad\n",
    "        fdata=np.array([Decs,U]).transpose()\n",
    "        ppars=pmag.doprinc(fdata)\n",
    "        Fs.append(f)\n",
    "        Es.append(ppars[\"tau2\"]/ppars[\"tau3\"])\n",
    "        angle=pmag.angle([D,0],[ppars[\"V2dec\"],0])\n",
    "        if 180.-angle<angle:angle=180.-angle\n",
    "        V2s.append(angle)\n",
    "        Is.append(abs(ppars[\"inc\"]))\n",
    "        if EI(abs(ppars[\"inc\"]))<=Es[-1]:\n",
    "            del Es[-1]\n",
    "            del Is[-1]\n",
    "            del Fs[-1]\n",
    "            del V2s[-1]\n",
    "            if len(Fs)>0:\n",
    "                for f in np.arange(Fs[-1],.2 ,-.005):\n",
    "                    U=np.arctan((1./f)*Tan_Incs)/rad\n",
    "                    fdata=np.array([Decs,U]).transpose()\n",
    "                    ppars=pmag.doprinc(fdata)\n",
    "                    Fs.append(f)\n",
    "                    Es.append(ppars[\"tau2\"]/ppars[\"tau3\"])\n",
    "                    Is.append(abs(ppars[\"inc\"]))\n",
    "                    angle=pmag.angle([D,0],[ppars[\"V2dec\"],0])\n",
    "                    if 180.-angle<angle:angle=180.-angle\n",
    "                    V2s.append(angle)\n",
    "                    if EI(abs(ppars[\"inc\"]))<=Es[-1]:\n",
    "                        return Es,Is,Fs,V2s\n",
    "    return [0],[0],[0],[0]\n",
    "\n",
    "def find_EI(data=None, path_to_file = '.', file_name = 'magic_measurements.txt', \n",
    "            nb=1000, save = False, save_folder = '.', fmt='svg'):\n",
    "    \"\"\"\n",
    "    NAME\n",
    "        find_EI.py\n",
    " \n",
    "    DESCRIPTION\n",
    "        Applies series of assumed flattening factor and \"unsquishes\" inclinations assuming tangent function.\n",
    "        Finds flattening factor that gives elongation/inclination pair consistent with TK03.  \n",
    "        Finds bootstrap confidence bounds\n",
    "\n",
    "    SYNTAX\n",
    "        find_EI.py [command line options]\n",
    "\n",
    "    OPTIONS\n",
    "        -h prints help message and quits\n",
    "        -i allows interactive input of file name\n",
    "        -f FILE specify input file name\n",
    "        -nb N specify number of bootstraps - the more the better, but slower!, default is 1000\n",
    "        -fmt [svg,png,eps,pdf..] change plot format, default is svg\n",
    "        -sav  saves the figures and quits\n",
    "\n",
    "    INPUT\n",
    "        dec/inc pairs, delimited with space or tabs\n",
    "\n",
    "    OUTPUT\n",
    "        four plots:  1) equal area plot of original directions\n",
    "                      2) Elongation/inclination pairs as a function of f,  data plus 25 bootstrap samples\n",
    "                      3) Cumulative distribution of bootstrapped optimal inclinations plus uncertainties.\n",
    "                         Estimate from original data set plotted as solid line\n",
    "                      4) Orientation of principle direction through unflattening\n",
    "    NOTE: If distribution does not have a solution, plot labeled: Pathological.  Some bootstrap samples may have\n",
    "       valid solutions and those are plotted in the CDFs and E/I plot.\n",
    "\n",
    "    \"\"\"\n",
    "    plot=0\n",
    "    nb=nb\n",
    "    fmt=fmt\n",
    "    if '-i' in sys.argv:\n",
    "        file=raw_input(\"Enter file name for processing: \")\n",
    "    if '-h' in sys.argv:\n",
    "        print main.__doc__\n",
    "        sys.exit() # graceful quit\n",
    "    elif '-f' in sys.argv:\n",
    "        ind=sys.argv.index('-f')\n",
    "        file=sys.argv[ind+1]\n",
    "    else:\n",
    "        print main.__doc__\n",
    "        sys.exit()\n",
    "    if '-nb' in sys.argv:\n",
    "        ind=sys.argv.index('-nb')\n",
    "        nb=int(sys.argv[ind+1])\n",
    "    if '-fmt' in sys.argv:\n",
    "        ind=sys.argv.index('-fmt')\n",
    "        fmt=sys.argv[ind+1]\n",
    "    if '-sav' in sys.argv:plot=1\n",
    "    if data == None:\n",
    "        file = os.path.join(path_to_file,file_name)\n",
    "        data=np.loadtxt(file)\n",
    "    else:\n",
    "        data = data\n",
    "    upper,lower=int(round(.975*nb)),int(round(.025*nb))\n",
    "    E,I=[],[]\n",
    "    PLTS={'eq':1,'ei':2,'cdf':3,'v2':4}\n",
    "    plt.figure(num=PLTS['eq'], figsize=(5,5))\n",
    "    plt.figure(num=PLTS['ei'], figsize=(5,5))\n",
    "    plt.figure(num=PLTS['cdf'], figsize=(5,5))\n",
    "    plt.figure(num=PLTS['v2'], figsize=(5,5))\n",
    "    ipmagplotlib.plotEQ(PLTS['eq'],data,'Data')\n",
    "    if plot==0:\n",
    "        pmagplotlib.drawFIGS(PLTS)\n",
    "    ppars=pmag.doprinc(data)\n",
    "    Io=ppars['inc']\n",
    "    n=ppars[\"N\"]\n",
    "    Es,Is,Fs,V2s=find_f(data)\n",
    "    Inc,Elong=Is[-1],Es[-1]\n",
    "    ipmagplotlib.plotEI(PLTS['ei'],Es,Is,Fs[-1])\n",
    "    ipmagplotlib.plotV2s(PLTS['v2'],V2s,Is,Fs[-1])\n",
    "    b=0\n",
    "    print \"Bootstrapping.... be patient\"\n",
    "    while b < nb:\n",
    "        bdata = pmag.pseudo(data)\n",
    "        Es,Is,Fs,V2s = find_f(bdata)\n",
    "        if b<25:\n",
    "            ipmagplotlib.plotEI(PLTS['ei'],Es,Is,Fs[-1])\n",
    "        if Es[-1] != 0:\n",
    "            ppars=pmag.doprinc(bdata)\n",
    "            I.append(abs(Is[-1]))\n",
    "            E.append(Es[-1])\n",
    "            b += 1\n",
    "            if b%25==0:\n",
    "                clear_output(wait=True)\n",
    "                print b,'out of',nb\n",
    "    I.sort()\n",
    "    E.sort()\n",
    "    Eexp=[]\n",
    "    for i in I:\n",
    "        Eexp.append(EI(i)) \n",
    "    if Inc==0:\n",
    "        title= 'Pathological Distribution: '+'[%7.1f, %7.1f]' %(I[lower],I[upper])\n",
    "    else:\n",
    "        title= '%7.1f [%7.1f, %7.1f]' %( Inc, I[lower],I[upper])\n",
    "#     ipmagplotlib.plotEQ(PLTS['eq'],data,'Data')\n",
    "    ipmagplotlib.plotEI(PLTS['ei'],Eexp,I,1)\n",
    "    ipmagplotlib.plotCDF(PLTS['cdf'],I,'Inclinations','r',title)\n",
    "    ipmagplotlib.plotVs(PLTS['cdf'],[I[lower],I[upper]],'b','--')\n",
    "    ipmagplotlib.plotVs(PLTS['cdf'],[Inc],'g','-')\n",
    "    ipmagplotlib.plotVs(PLTS['cdf'],[Io],'k','-')\n",
    "    plt.show()\n",
    "    if plot==0:\n",
    "        #plt.tight_layout()\n",
    "        pmagplotlib.drawFIGS(PLTS)\n",
    "#         plt.show()\n",
    "        print \"Io Inc  I_lower, I_upper, Elon, E_lower, E_upper\"\n",
    "        print '%7.1f %s %7.1f _ %7.1f ^ %7.1f:  %6.4f _ %6.4f ^ %6.4f'%(Io, \" => \", Inc, I[lower],I[upper], Elong, E[lower],E[upper])\n",
    "        return\n",
    "        ans= raw_input(\"S[a]ve plots - <return> to quit:  \")\n",
    "        if ans!='a':\n",
    "            print \"\\n Good bye\\n\"\n",
    "            return\n",
    "    files={}\n",
    "    files['eq']='findEI_eq.'+fmt\n",
    "    files['ei']='findEI_ei.'+fmt\n",
    "    files['cdf']='findEI_cdf.'+fmt\n",
    "    files['v2']='findEI_v2.'+fmt\n",
    "    ipmagplotlib.clearFIG(PLTS['ei'])"
   ]
  },
  {
   "cell_type": "markdown",
   "metadata": {},
   "source": [
    "Let's test the find_EI() function on our squished directional data."
   ]
  },
  {
   "cell_type": "code",
   "execution_count": 21,
   "metadata": {
    "collapsed": false,
    "scrolled": false
   },
   "outputs": [
    {
     "name": "stdout",
     "output_type": "stream",
     "text": [
      "1000 out of 1000\n"
     ]
    },
    {
     "data": {
      "image/png": "[encoded data removed]",
      "text/plain": [
       "<matplotlib.figure.Figure at 0x11425bb50>"
      ]
     },
     "metadata": {},
     "output_type": "display_data"
    },
    {
     "data": {
      "image/png": "[encoded data removed]",
      "text/plain": [
       "<matplotlib.figure.Figure at 0x11425b150>"
      ]
     },
     "metadata": {},
     "output_type": "display_data"
    },
    {
     "data": {
      "image/png": "[encoded data removed]",
      "text/plain": [
       "<matplotlib.figure.Figure at 0x11425bd10>"
      ]
     },
     "metadata": {},
     "output_type": "display_data"
    },
    {
     "data": {
      "image/png": "[encoded data removed]",
      "text/plain": [
       "<matplotlib.figure.Figure at 0x113ddf6d0>"
      ]
     },
     "metadata": {},
     "output_type": "display_data"
    },
    {
     "name": "stdout",
     "output_type": "stream",
     "text": [
      "Io Inc  I_lower, I_upper, Elon, E_lower, E_upper\n",
      "   23.9  =>      0.0 _    44.8 ^    63.5:  0.0000 _ 1.3643 ^ 1.8247\n"
     ]
    },
    {
     "data": {
      "text/plain": [
       "<matplotlib.figure.Figure at 0x114c49e90>"
      ]
     },
     "metadata": {},
     "output_type": "display_data"
    },
    {
     "data": {
      "text/plain": [
       "<matplotlib.figure.Figure at 0x11425b110>"
      ]
     },
     "metadata": {},
     "output_type": "display_data"
    },
    {
     "data": {
      "text/plain": [
       "<matplotlib.figure.Figure at 0x114b5a850>"
      ]
     },
     "metadata": {},
     "output_type": "display_data"
    },
    {
     "data": {
      "text/plain": [
       "<matplotlib.figure.Figure at 0x1143e79d0>"
      ]
     },
     "metadata": {},
     "output_type": "display_data"
    }
   ],
   "source": [
    "find_EI(data=squished_DIs)\n",
    "# find_EI(path_to_file = 'PmagPy_Datafiles/find_EI/', file_name= 'find_EI_example.dat')"
   ]
  },
  {
   "cell_type": "markdown",
   "metadata": {
    "collapsed": true
   },
   "source": [
    "## Working with anisotropy data"
   ]
  },
  {
   "cell_type": "code",
   "execution_count": null,
   "metadata": {
    "collapsed": true
   },
   "outputs": [],
   "source": [
    "def aniso_magic(path_to_file = '.', file_name = 'rmag_anisotropy.txt', \n",
    "               save = False, save_folder = '.', fmt='svg', *argv):\n",
    "    \"\"\"\n",
    "    NAME\n",
    "        aniso_magic.py\n",
    "\n",
    "    DESCRIPTION\n",
    "        plots anisotropy data with either bootstrap or hext ellipses\n",
    "\n",
    "    SYNTAX\n",
    "        aniso_magic.py [-h] [command line options]\n",
    "    OPTIONS\n",
    "        -h plots help message and quits\n",
    "        -usr USER: set the user name\n",
    "        -f AFILE, specify rmag_anisotropy formatted file for input\n",
    "        -F RFILE, specify rmag_results formatted file for output\n",
    "        -x Hext [1963] and bootstrap\n",
    "        -B DON'T do bootstrap, do Hext\n",
    "        -par Tauxe [1998] parametric bootstrap\n",
    "        -v plot bootstrap eigenvectors instead of ellipses\n",
    "        -sit plot by site instead of entire file\n",
    "        -crd [s,g,t] coordinate system, default is specimen (g=geographic, t=tilt corrected)\n",
    "        -P don't make any plots - just make rmag_results table\n",
    "        -sav don't make the rmag_results table - just save all the plots\n",
    "        -fmt [svg, jpg, eps] format for output images, pdf default\n",
    "        -gtc DEC INC  dec,inc of pole to great circle [down(up) in green (cyan)\n",
    "        -d Vi DEC INC; Vi (1,2,3) to compare to direction DEC INC\n",
    "        -nb N; specifies the number of bootstraps - default is 1000\n",
    "    DEFAULTS\n",
    "       AFILE:  rmag_anisotropy.txt\n",
    "       RFILE:  rmag_results.txt\n",
    "       plot bootstrap ellipses of Constable & Tauxe [1987]\n",
    "    NOTES\n",
    "       minor axis: circles\n",
    "       major axis: triangles\n",
    "       principal axis: squares\n",
    "       directions are plotted on the lower hemisphere\n",
    "       for bootstrapped eigenvector components: Xs: blue, Ys: red, Zs: black\n",
    "\"\"\"\n",
    "#\n",
    "    dir_path=\".\"\n",
    "    version_num=pmag.get_version()\n",
    "    verbose=pmagplotlib.verbose\n",
    "    args=sys.argv\n",
    "    ipar,ihext,ivec,iboot,imeas,isite,iplot,vec=0,0,0,1,1,0,1,0\n",
    "    hpars,bpars,PDir=[],[],[]\n",
    "    CS,crd='-1','s'\n",
    "    nb=1000\n",
    "    fmt='pdf'\n",
    "    ResRecs=[]\n",
    "    orlist=[]\n",
    "    outfile,comp,Dir,gtcirc,PDir='rmag_results.txt',0,[],0,[]\n",
    "    infile=os.path.join(path_to_file, file_name)\n",
    "    if \"-h\" in args:\n",
    "        print main.__doc__\n",
    "        sys.exit()\n",
    "    if '-WD' in args:\n",
    "        ind=args.index('-WD')\n",
    "        dir_path=args[ind+1]\n",
    "    if '-nb' in args:\n",
    "        ind=args.index('-nb')\n",
    "        nb=int(args[ind+1])\n",
    "    if '-usr' in args:\n",
    "        ind=args.index('-usr')\n",
    "        user=args[ind+1]\n",
    "    else:\n",
    "        user=\"\"\n",
    "    if '-B' in args:iboot,ihext=0,1\n",
    "    if '-par' in args:ipar=1\n",
    "    if '-x' in args:ihext=1\n",
    "    if '-v' in args:ivec=1\n",
    "    if '-sit' in args:isite=1\n",
    "    if '-P' in args:iplot=0\n",
    "    if '-f' in args:\n",
    "        ind=args.index('-f')\n",
    "        infile=args[ind+1]\n",
    "    if '-F' in args:\n",
    "        ind=args.index('-F')\n",
    "        outfile=args[ind+1]\n",
    "    if '-crd' in sys.argv:\n",
    "        ind=sys.argv.index('-crd')\n",
    "        crd=sys.argv[ind+1]\n",
    "        if crd=='g':CS='0'\n",
    "        if crd=='t': CS='100'\n",
    "    if '-fmt' in args:\n",
    "        ind=args.index('-fmt')\n",
    "        fmt=args[ind+1]\n",
    "    if '-sav' in args:\n",
    "        plots=1\n",
    "        verbose=0\n",
    "    else:\n",
    "        plots=0\n",
    "    if '-gtc' in args:\n",
    "        d, i = 110.0, 2.0\n",
    "        PDir.append(d)\n",
    "        PDir.append(i)\n",
    "#         ind=args.index('-gtc')\n",
    "#         d,i=float(args[ind+1]),float(args[ind+2])\n",
    "#         PDir.append(d)\n",
    "#         PDir.append(i)\n",
    "    if '-d' in args:\n",
    "        comp=1\n",
    "        ind=args.index('-d')\n",
    "        vec=int(args[ind+1])-1\n",
    "        Dir=[float(args[ind+2]),float(args[ind+3])]\n",
    "#\n",
    "# set up plots\n",
    "#\n",
    "#     if infile[0]!='/':infile=dir_path+'/'+infile\n",
    "    if outfile[0]!='/':outfile=dir_path+'/'+outfile\n",
    "    ANIS={}\n",
    "    initcdf,inittcdf=0,0\n",
    "    ANIS['data'],ANIS['conf']=1,2\n",
    "    if iboot==1:\n",
    "        ANIS['tcdf']=3\n",
    "        if iplot==1:\n",
    "            inittcdf=1\n",
    "            plt.figure(num=ANIS['tcdf'], figsize=(5,5))\n",
    "            #pmagplotlib.plot_init(ANIS['tcdf'],5,5)\n",
    "        if comp==1 and iplot==1:\n",
    "            initcdf=1\n",
    "            ANIS['vxcdf'],ANIS['vycdf'],ANIS['vzcdf']=4,5,6\n",
    "            plt.figure(num=ANIS['vxcdf'], figsize=(5,5))\n",
    "            plt.figure(num=ANIS['vycdf'], figsize=(5,5))\n",
    "            plt.figure(num=ANIS['vzcdf'], figsize=(5,5))\n",
    "#             pmagplotlib.plot_init(ANIS['vxcdf'],5,5)\n",
    "#             pmagplotlib.plot_init(ANIS['vycdf'],5,5)\n",
    "#             pmagplotlib.plot_init(ANIS['vzcdf'],5,5)\n",
    "    if iplot==1:\n",
    "        plt.figure(num=ANIS['conf'], figsize=(5,5))\n",
    "        plt.figure(num=ANIS['data'], figsize=(5,5))\n",
    "#         pmagplotlib.plot_init(ANIS['conf'],5,5)\n",
    "#         pmagplotlib.plot_init(ANIS['data'],5,5)\n",
    "# read in the data\n",
    "    data,ifiletype=pmag.magic_read(infile)\n",
    "    for rec in data:  # find all the orientation systems\n",
    "        if 'anisotropy_tilt_correction' not in rec.keys():rec['anisotropy_tilt_correction']='-1'\n",
    "        if rec['anisotropy_tilt_correction'] not in orlist:\n",
    "            orlist.append(rec['anisotropy_tilt_correction'])\n",
    "    if CS not in orlist:\n",
    "        if len(orlist)>0:\n",
    "            CS=orlist[0]\n",
    "        else:\n",
    "            CS='-1'\n",
    "        if CS=='-1':crd='s'\n",
    "        if CS=='0':crd='g'\n",
    "        if CS=='100':crd='t'\n",
    "        if verbose:print \"desired coordinate system not available, using available: \",crd\n",
    "    if isite==1:\n",
    "        sitelist=[]\n",
    "        for rec in data:\n",
    "            if rec['er_site_name'] not in sitelist:sitelist.append(rec['er_site_name'])\n",
    "        sitelist.sort()\n",
    "        plot_len=len(sitelist)\n",
    "    else:plot_len=1\n",
    "    k=0\n",
    "    while k<plot_len:\n",
    "        site=\"\"\n",
    "        sdata,Ss=[],[] # list of S format data\n",
    "        Locs,Sites,Samples,Specimens,Cits=[],[],[],[],[]\n",
    "        if isite==0:\n",
    "            sdata=data\n",
    "        else:\n",
    "            site=sitelist[k]\n",
    "            for rec in data:\n",
    "                if rec['er_site_name']==site:sdata.append(rec)\n",
    "        anitypes=[]\n",
    "        csrecs=pmag.get_dictitem(sdata,'anisotropy_tilt_correction',CS,'T')\n",
    "        for rec in csrecs:\n",
    "            if rec['anisotropy_type'] not in anitypes:anitypes.append(rec['anisotropy_type'])\n",
    "            if rec['er_location_name'] not in Locs:Locs.append(rec['er_location_name'])\n",
    "            if rec['er_site_name'] not in Sites:Sites.append(rec['er_site_name'])\n",
    "            if rec['er_sample_name'] not in Samples:Samples.append(rec['er_sample_name'])\n",
    "            if rec['er_specimen_name'] not in Specimens:Specimens.append(rec['er_specimen_name'])\n",
    "            if rec['er_citation_names'] not in Cits:Cits.append(rec['er_citation_names'])\n",
    "            s=[]\n",
    "            s.append(float(rec[\"anisotropy_s1\"]))\n",
    "            s.append(float(rec[\"anisotropy_s2\"]))\n",
    "            s.append(float(rec[\"anisotropy_s3\"]))\n",
    "            s.append(float(rec[\"anisotropy_s4\"]))\n",
    "            s.append(float(rec[\"anisotropy_s5\"]))\n",
    "            s.append(float(rec[\"anisotropy_s6\"]))\n",
    "            if s[0]<=1.0:Ss.append(s) # protect against crap\n",
    "            #tau,Vdirs=pmag.doseigs(s)\n",
    "            fpars=pmag.dohext(int(rec[\"anisotropy_n\"])-6,float(rec[\"anisotropy_sigma\"]),s)\n",
    "            ResRec={}\n",
    "            ResRec['er_location_names']=rec['er_location_name']\n",
    "            ResRec['er_citation_names']=rec['er_citation_names']\n",
    "            ResRec['er_site_names']=rec['er_site_name']\n",
    "            ResRec['er_sample_names']=rec['er_sample_name']\n",
    "            ResRec['er_specimen_names']=rec['er_specimen_name']\n",
    "            ResRec['rmag_result_name']=rec['er_specimen_name']+\":\"+rec['anisotropy_type']\n",
    "            ResRec[\"er_analyst_mail_names\"]=user\n",
    "            ResRec[\"tilt_correction\"]=CS\n",
    "            ResRec[\"anisotropy_type\"]=rec['anisotropy_type']\n",
    "            ResRec[\"anisotropy_v1_dec\"]='%7.1f'%(fpars['v1_dec'])\n",
    "            ResRec[\"anisotropy_v2_dec\"]='%7.1f'%(fpars['v2_dec'])\n",
    "            ResRec[\"anisotropy_v3_dec\"]='%7.1f'%(fpars['v3_dec'])\n",
    "            ResRec[\"anisotropy_v1_inc\"]='%7.1f'%(fpars['v1_inc'])\n",
    "            ResRec[\"anisotropy_v2_inc\"]='%7.1f'%(fpars['v2_inc'])\n",
    "            ResRec[\"anisotropy_v3_inc\"]='%7.1f'%(fpars['v3_inc'])\n",
    "            ResRec[\"anisotropy_t1\"]='%10.8f'%(fpars['t1'])\n",
    "            ResRec[\"anisotropy_t2\"]='%10.8f'%(fpars['t2'])\n",
    "            ResRec[\"anisotropy_t3\"]='%10.8f'%(fpars['t3'])\n",
    "            ResRec[\"anisotropy_ftest\"]='%10.3f'%(fpars['F'])\n",
    "            ResRec[\"anisotropy_ftest12\"]='%10.3f'%(fpars['F12'])\n",
    "            ResRec[\"anisotropy_ftest23\"]='%10.3f'%(fpars['F23'])\n",
    "            ResRec[\"result_description\"]='F_crit: '+fpars['F_crit']+'; F12,F23_crit: '+fpars['F12_crit']\n",
    "            ResRec['anisotropy_type']=pmag.makelist(anitypes)\n",
    "            ResRecs.append(ResRec)\n",
    "        if len(Ss)>1:\n",
    "            title=\"LO:_\"+ResRec['er_location_names']+'_SI:_'+site+'_SA:__SP:__CO:_'+crd\n",
    "            ResRec['er_location_names']=pmag.makelist(Locs)\n",
    "            bpars,hpars=pmagplotlib.plotANIS(ANIS,Ss,iboot,ihext,ivec,ipar,title,iplot,comp,vec,Dir,nb)\n",
    "            if len(PDir)>0:\n",
    "                pmagplotlib.plotC(ANIS['data'],PDir,90.,'g')\n",
    "                pmagplotlib.plotC(ANIS['conf'],PDir,90.,'g')\n",
    "            if verbose and plots==0:pmagplotlib.drawFIGS(ANIS)\n",
    "            ResRec['er_location_names']=pmag.makelist(Locs)\n",
    "            if plots==1:\n",
    "                save(ANIS,fmt,title)\n",
    "            ResRec={}\n",
    "            ResRec['er_citation_names']=pmag.makelist(Cits)\n",
    "            ResRec['er_location_names']=pmag.makelist(Locs)\n",
    "            ResRec['er_site_names']=pmag.makelist(Sites)\n",
    "            ResRec['er_sample_names']=pmag.makelist(Samples)\n",
    "            ResRec['er_specimen_names']=pmag.makelist(Specimens)\n",
    "            ResRec['rmag_result_name']=pmag.makelist(Sites)+\":\"+pmag.makelist(anitypes)\n",
    "            ResRec['anisotropy_type']=pmag.makelist(anitypes)\n",
    "            ResRec[\"er_analyst_mail_names\"]=user\n",
    "            ResRec[\"tilt_correction\"]=CS\n",
    "            if isite==\"0\":ResRec['result_description']=\"Study average using coordinate system: \"+ CS\n",
    "            if isite==\"1\":ResRec['result_description']=\"Site average using coordinate system: \" +CS\n",
    "            if hpars!=[] and ihext==1:\n",
    "                HextRec={}\n",
    "                for key in ResRec.keys():HextRec[key]=ResRec[key]   # copy over stuff\n",
    "                HextRec[\"anisotropy_v1_dec\"]='%7.1f'%(hpars[\"v1_dec\"])\n",
    "                HextRec[\"anisotropy_v2_dec\"]='%7.1f'%(hpars[\"v2_dec\"])\n",
    "                HextRec[\"anisotropy_v3_dec\"]='%7.1f'%(hpars[\"v3_dec\"])\n",
    "                HextRec[\"anisotropy_v1_inc\"]='%7.1f'%(hpars[\"v1_inc\"])\n",
    "                HextRec[\"anisotropy_v2_inc\"]='%7.1f'%(hpars[\"v2_inc\"])\n",
    "                HextRec[\"anisotropy_v3_inc\"]='%7.1f'%(hpars[\"v3_inc\"])\n",
    "                HextRec[\"anisotropy_t1\"]='%10.8f'%(hpars[\"t1\"])\n",
    "                HextRec[\"anisotropy_t2\"]='%10.8f'%(hpars[\"t2\"])\n",
    "                HextRec[\"anisotropy_t3\"]='%10.8f'%(hpars[\"t3\"])\n",
    "                HextRec[\"anisotropy_hext_F\"]='%7.1f '%(hpars[\"F\"])\n",
    "                HextRec[\"anisotropy_hext_F12\"]='%7.1f '%(hpars[\"F12\"])\n",
    "                HextRec[\"anisotropy_hext_F23\"]='%7.1f '%(hpars[\"F23\"])\n",
    "                HextRec[\"anisotropy_v1_eta_semi_angle\"]='%7.1f '%(hpars[\"e12\"])\n",
    "                HextRec[\"anisotropy_v1_eta_dec\"]='%7.1f '%(hpars[\"v2_dec\"])\n",
    "                HextRec[\"anisotropy_v1_eta_inc\"]='%7.1f '%(hpars[\"v2_inc\"])\n",
    "                HextRec[\"anisotropy_v1_zeta_semi_angle\"]='%7.1f '%(hpars[\"e13\"])\n",
    "                HextRec[\"anisotropy_v1_zeta_dec\"]='%7.1f '%(hpars[\"v3_dec\"])\n",
    "                HextRec[\"anisotropy_v1_zeta_inc\"]='%7.1f '%(hpars[\"v3_inc\"])\n",
    "                HextRec[\"anisotropy_v2_eta_semi_angle\"]='%7.1f '%(hpars[\"e12\"])\n",
    "                HextRec[\"anisotropy_v2_eta_dec\"]='%7.1f '%(hpars[\"v1_dec\"])\n",
    "                HextRec[\"anisotropy_v2_eta_inc\"]='%7.1f '%(hpars[\"v1_inc\"])\n",
    "                HextRec[\"anisotropy_v2_zeta_semi_angle\"]='%7.1f '%(hpars[\"e23\"])\n",
    "                HextRec[\"anisotropy_v2_zeta_dec\"]='%7.1f '%(hpars[\"v3_dec\"])\n",
    "                HextRec[\"anisotropy_v2_zeta_inc\"]='%7.1f '%(hpars[\"v3_inc\"])\n",
    "                HextRec[\"anisotropy_v3_eta_semi_angle\"]='%7.1f '%(hpars[\"e12\"])\n",
    "                HextRec[\"anisotropy_v3_eta_dec\"]='%7.1f '%(hpars[\"v1_dec\"])\n",
    "                HextRec[\"anisotropy_v3_eta_inc\"]='%7.1f '%(hpars[\"v1_inc\"])\n",
    "                HextRec[\"anisotropy_v3_zeta_semi_angle\"]='%7.1f '%(hpars[\"e23\"])\n",
    "                HextRec[\"anisotropy_v3_zeta_dec\"]='%7.1f '%(hpars[\"v2_dec\"])\n",
    "                HextRec[\"anisotropy_v3_zeta_inc\"]='%7.1f '%(hpars[\"v2_inc\"])\n",
    "                HextRec[\"magic_method_codes\"]='LP-AN:AE-H'\n",
    "                if verbose:\n",
    "                    print \"Hext Statistics: \"\n",
    "                    print \" tau_i, V_i_D, V_i_I, V_i_zeta, V_i_zeta_D, V_i_zeta_I, V_i_eta, V_i_eta_D, V_i_eta_I\"\n",
    "                    print HextRec[\"anisotropy_t1\"], HextRec[\"anisotropy_v1_dec\"], HextRec[\"anisotropy_v1_inc\"], HextRec[\"anisotropy_v1_eta_semi_angle\"], HextRec[\"anisotropy_v1_eta_dec\"], HextRec[\"anisotropy_v1_eta_inc\"], HextRec[\"anisotropy_v1_zeta_semi_angle\"], HextRec[\"anisotropy_v1_zeta_dec\"], HextRec[\"anisotropy_v1_zeta_inc\"]\n",
    "                    print HextRec[\"anisotropy_t2\"],HextRec[\"anisotropy_v2_dec\"], HextRec[\"anisotropy_v2_inc\"], HextRec[\"anisotropy_v2_eta_semi_angle\"], HextRec[\"anisotropy_v2_eta_dec\"], HextRec[\"anisotropy_v2_eta_inc\"], HextRec[\"anisotropy_v2_zeta_semi_angle\"], HextRec[\"anisotropy_v2_zeta_dec\"], HextRec[\"anisotropy_v2_zeta_inc\"]\n",
    "                    print HextRec[\"anisotropy_t3\"], HextRec[\"anisotropy_v3_dec\"], HextRec[\"anisotropy_v3_inc\"], HextRec[\"anisotropy_v3_eta_semi_angle\"], HextRec[\"anisotropy_v3_eta_dec\"], HextRec[\"anisotropy_v3_eta_inc\"], HextRec[\"anisotropy_v3_zeta_semi_angle\"], HextRec[\"anisotropy_v3_zeta_dec\"], HextRec[\"anisotropy_v3_zeta_inc\"]\n",
    "                HextRec['magic_software_packages']=version_num\n",
    "                ResRecs.append(HextRec)\n",
    "            if bpars!=[]:\n",
    "                BootRec={}\n",
    "                for key in ResRec.keys():BootRec[key]=ResRec[key]   # copy over stuff\n",
    "                BootRec[\"anisotropy_v1_dec\"]='%7.1f'%(bpars[\"v1_dec\"])\n",
    "                BootRec[\"anisotropy_v2_dec\"]='%7.1f'%(bpars[\"v2_dec\"])\n",
    "                BootRec[\"anisotropy_v3_dec\"]='%7.1f'%(bpars[\"v3_dec\"])\n",
    "                BootRec[\"anisotropy_v1_inc\"]='%7.1f'%(bpars[\"v1_inc\"])\n",
    "                BootRec[\"anisotropy_v2_inc\"]='%7.1f'%(bpars[\"v2_inc\"])\n",
    "                BootRec[\"anisotropy_v3_inc\"]='%7.1f'%(bpars[\"v3_inc\"])\n",
    "                BootRec[\"anisotropy_t1\"]='%10.8f'%(bpars[\"t1\"])\n",
    "                BootRec[\"anisotropy_t2\"]='%10.8f'%(bpars[\"t2\"])\n",
    "                BootRec[\"anisotropy_t3\"]='%10.8f'%(bpars[\"t3\"])\n",
    "                BootRec[\"anisotropy_v1_eta_inc\"]='%7.1f '%(bpars[\"v1_eta_inc\"])\n",
    "                BootRec[\"anisotropy_v1_eta_dec\"]='%7.1f '%(bpars[\"v1_eta_dec\"])\n",
    "                BootRec[\"anisotropy_v1_eta_semi_angle\"]='%7.1f '%(bpars[\"v1_eta\"])\n",
    "                BootRec[\"anisotropy_v1_zeta_inc\"]='%7.1f '%(bpars[\"v1_zeta_inc\"])\n",
    "                BootRec[\"anisotropy_v1_zeta_dec\"]='%7.1f '%(bpars[\"v1_zeta_dec\"])\n",
    "                BootRec[\"anisotropy_v1_zeta_semi_angle\"]='%7.1f '%(bpars[\"v1_zeta\"])\n",
    "                BootRec[\"anisotropy_v2_eta_inc\"]='%7.1f '%(bpars[\"v2_eta_inc\"])\n",
    "                BootRec[\"anisotropy_v2_eta_dec\"]='%7.1f '%(bpars[\"v2_eta_dec\"])\n",
    "                BootRec[\"anisotropy_v2_eta_semi_angle\"]='%7.1f '%(bpars[\"v2_eta\"])\n",
    "                BootRec[\"anisotropy_v2_zeta_inc\"]='%7.1f '%(bpars[\"v2_zeta_inc\"])\n",
    "                BootRec[\"anisotropy_v2_zeta_dec\"]='%7.1f '%(bpars[\"v2_zeta_dec\"])\n",
    "                BootRec[\"anisotropy_v2_zeta_semi_angle\"]='%7.1f '%(bpars[\"v2_zeta\"])\n",
    "                BootRec[\"anisotropy_v3_eta_inc\"]='%7.1f '%(bpars[\"v3_eta_inc\"])\n",
    "                BootRec[\"anisotropy_v3_eta_dec\"]='%7.1f '%(bpars[\"v3_eta_dec\"])\n",
    "                BootRec[\"anisotropy_v3_eta_semi_angle\"]='%7.1f '%(bpars[\"v3_eta\"])\n",
    "                BootRec[\"anisotropy_v3_zeta_inc\"]='%7.1f '%(bpars[\"v3_zeta_inc\"])\n",
    "                BootRec[\"anisotropy_v3_zeta_dec\"]='%7.1f '%(bpars[\"v3_zeta_dec\"])\n",
    "                BootRec[\"anisotropy_v3_zeta_semi_angle\"]='%7.1f '%(bpars[\"v3_zeta\"])\n",
    "                BootRec[\"anisotropy_hext_F\"]=''\n",
    "                BootRec[\"anisotropy_hext_F12\"]=''\n",
    "                BootRec[\"anisotropy_hext_F23\"]=''\n",
    "                BootRec[\"magic_method_codes\"]='LP-AN:AE-H:AE-BS' # regular bootstrap\n",
    "                if ipar==1:BootRec[\"magic_method_codes\"]='LP-AN:AE-H:AE-BS-P' # parametric bootstrap\n",
    "                if verbose:\n",
    "                    print \"Boostrap Statistics: \"\n",
    "                    print \" tau_i, V_i_D, V_i_I, V_i_zeta, V_i_zeta_D, V_i_zeta_I, V_i_eta, V_i_eta_D, V_i_eta_I\"\n",
    "                    print BootRec[\"anisotropy_t1\"], BootRec[\"anisotropy_v1_dec\"], BootRec[\"anisotropy_v1_inc\"], BootRec[\"anisotropy_v1_eta_semi_angle\"], BootRec[\"anisotropy_v1_eta_dec\"], BootRec[\"anisotropy_v1_eta_inc\"], BootRec[\"anisotropy_v1_zeta_semi_angle\"], BootRec[\"anisotropy_v1_zeta_dec\"], BootRec[\"anisotropy_v1_zeta_inc\"]\n",
    "                    print BootRec[\"anisotropy_t2\"],BootRec[\"anisotropy_v2_dec\"], BootRec[\"anisotropy_v2_inc\"], BootRec[\"anisotropy_v2_eta_semi_angle\"], BootRec[\"anisotropy_v2_eta_dec\"], BootRec[\"anisotropy_v2_eta_inc\"], BootRec[\"anisotropy_v2_zeta_semi_angle\"], BootRec[\"anisotropy_v2_zeta_dec\"], BootRec[\"anisotropy_v2_zeta_inc\"]\n",
    "                    print BootRec[\"anisotropy_t3\"], BootRec[\"anisotropy_v3_dec\"], BootRec[\"anisotropy_v3_inc\"], BootRec[\"anisotropy_v3_eta_semi_angle\"], BootRec[\"anisotropy_v3_eta_dec\"], BootRec[\"anisotropy_v3_eta_inc\"], BootRec[\"anisotropy_v3_zeta_semi_angle\"], BootRec[\"anisotropy_v3_zeta_dec\"], BootRec[\"anisotropy_v3_zeta_inc\"]\n",
    "                BootRec['magic_software_packages']=version_num\n",
    "                ResRecs.append(BootRec)\n",
    "            k+=1\n",
    "            goon=1\n",
    "            while goon==1 and iplot==1 and verbose:\n",
    "                if iboot==1: print \"compare with [d]irection \"\n",
    "                print \" plot [g]reat circle,  change [c]oord. system, change [e]llipse calculation,  s[a]ve plots, [q]uit \"\n",
    "                if isite==1: print \"  [p]revious, [s]ite, [q]uit, <return> for next \"\n",
    "                ans=raw_input(\"\")\n",
    "                if ans==\"q\":\n",
    "                    sys.exit()\n",
    "                if ans==\"e\":\n",
    "                    iboot,ipar,ihext,ivec=1,0,0,0\n",
    "                    e=raw_input(\"Do Hext Statistics  1/[0]: \")\n",
    "                    if e==\"1\":ihext=1\n",
    "                    e=raw_input(\"Suppress bootstrap 1/[0]: \")\n",
    "                    if e==\"1\":iboot=0\n",
    "                    if iboot==1:\n",
    "                        e=raw_input(\"Parametric bootstrap 1/[0]: \")\n",
    "                        if e==\"1\":ipar=1\n",
    "                        e=raw_input(\"Plot bootstrap eigenvectors:  1/[0]: \")\n",
    "                        if e==\"1\":ivec=1\n",
    "                        if iplot==1:\n",
    "                            if inittcdf==0:\n",
    "                                ANIS['tcdf']=3\n",
    "                                pmagplotlib.plot_init(ANIS['tcdf'],5,5)\n",
    "                                inittcdf=1\n",
    "                    bpars,hpars=pmagplotlib.plotANIS(ANIS,Ss,iboot,ihext,ivec,ipar,title,iplot,comp,vec,Dir,nb)\n",
    "                    if verbose and plots==0:pmagplotlib.drawFIGS(ANIS)\n",
    "                if ans==\"c\":\n",
    "                    print \"Current Coordinate system is: \"\n",
    "                    if CS=='-1':print \" Specimen\"\n",
    "                    if CS=='0':print \" Geographic\"\n",
    "                    if CS=='100':print \" Tilt corrected\"\n",
    "                    key=raw_input(\" Enter desired coordinate system: [s]pecimen, [g]eographic, [t]ilt corrected \")\n",
    "                    if key=='s':CS='-1'\n",
    "                    if key=='g':CS='0'\n",
    "                    if key=='t': CS='100'\n",
    "                    if CS not in orlist:\n",
    "                        if len(orlist)>0:\n",
    "                            CS=orlist[0]\n",
    "                        else:\n",
    "                            CS='-1'\n",
    "                        if CS=='-1':crd='s'\n",
    "                        if CS=='0':crd='g'\n",
    "                        if CS=='100':crd='t'\n",
    "                        print \"desired coordinate system not available, using available: \",crd\n",
    "                    k-=1\n",
    "                    goon=0\n",
    "                if ans==\"\":\n",
    "                    if isite==1:\n",
    "                        goon=0\n",
    "                    else:\n",
    "                        print \"Good bye \"\n",
    "                        sys.exit()\n",
    "                if ans=='d':\n",
    "                    if initcdf==0:\n",
    "                        initcdf=1\n",
    "                        ANIS['vxcdf'],ANIS['vycdf'],ANIS['vzcdf']=4,5,6\n",
    "                        pmagplotlib.plot_init(ANIS['vxcdf'],5,5)\n",
    "                        pmagplotlib.plot_init(ANIS['vycdf'],5,5)\n",
    "                        pmagplotlib.plot_init(ANIS['vzcdf'],5,5)\n",
    "                    Dir,comp=[],1\n",
    "                    print \"\"\"\n",
    "                      Input: Vi D I to  compare  eigenvector Vi with direction D/I\n",
    "                             where Vi=1: principal\n",
    "                                   Vi=2: major\n",
    "                                   Vi=3: minor\n",
    "                                   D= declination of comparison direction\n",
    "                                   I= inclination of comparison direction\"\"\"\n",
    "                    con=1\n",
    "                    while con==1:\n",
    "                        try:\n",
    "                            vdi=raw_input(\"Vi D I: \").split()\n",
    "                            vec=int(vdi[0])-1\n",
    "                            Dir=[float(vdi[1]),float(vdi[2])]\n",
    "                            con=0\n",
    "                        except IndexError:\n",
    "                            print \" Incorrect entry, try again \"\n",
    "                    bpars,hpars=pmagplotlib.plotANIS(ANIS,Ss,iboot,ihext,ivec,ipar,title,iplot,comp,vec,Dir,nb)\n",
    "                    Dir,comp=[],0\n",
    "                if ans=='g':\n",
    "                    con,cnt=1,0\n",
    "                    while con==1:\n",
    "                        try:\n",
    "                            print \" Input:  input pole to great circle ( D I) to  plot a great circle:   \"\n",
    "                            di=raw_input(\" D I: \").split()\n",
    "                            PDir.append(float(di[0]))\n",
    "                            PDir.append(float(di[1]))\n",
    "                            con=0\n",
    "                        except:\n",
    "                            cnt+=1\n",
    "                            if cnt<10:\n",
    "                                print \" enter the dec and inc of the pole on one line \"\n",
    "                            else:\n",
    "                                print \"ummm - you are doing something wrong - i give up\"\n",
    "                                sys.exit()\n",
    "                    pmagplotlib.plotC(ANIS['data'],PDir,90.,'g')\n",
    "                    pmagplotlib.plotC(ANIS['conf'],PDir,90.,'g')\n",
    "                    if verbose and plots==0:pmagplotlib.drawFIGS(ANIS)\n",
    "                if ans==\"p\":\n",
    "                    k-=2\n",
    "                    goon=0\n",
    "                if ans==\"q\":\n",
    "                    k=plot_len\n",
    "                    goon=0\n",
    "                if ans==\"s\":\n",
    "                    keepon=1\n",
    "                    site=raw_input(\" print site or part of site desired: \")\n",
    "                    while keepon==1:\n",
    "                        try:\n",
    "                            k=sitelist.index(site)\n",
    "                            keepon=0\n",
    "                        except:\n",
    "                            tmplist=[]\n",
    "                            for qq in range(len(sitelist)):\n",
    "                                if site in sitelist[qq]:tmplist.append(sitelist[qq])\n",
    "                            print site,\" not found, but this was: \"\n",
    "                            print tmplist\n",
    "                            site=raw_input('Select one or try again\\n ')\n",
    "                            k=sitelist.index(site)\n",
    "                    goon,ans=0,\"\"\n",
    "                if ans==\"a\":\n",
    "                    locs=pmag.makelist(Locs)\n",
    "                    title=\"LO:_\"+locs+'_SI:__'+'_SA:__SP:__CO:_'+crd\n",
    "                    save(ANIS,fmt,title)\n",
    "                    goon=0\n",
    "        else:\n",
    "            if verbose:print 'skipping plot - not enough data points'\n",
    "            k+=1\n",
    "#   put rmag_results stuff here\n",
    "    if len(ResRecs)>0:\n",
    "        ResOut,keylist=pmag.fillkeys(ResRecs)\n",
    "        pmag.magic_write(outfile,ResOut,'rmag_results')\n",
    "    if verbose:\n",
    "        print \" Good bye \""
   ]
  },
  {
   "cell_type": "code",
   "execution_count": null,
   "metadata": {
    "collapsed": false
   },
   "outputs": [],
   "source": [
    "aniso_magic('-gtc', path_to_file= './PmagPy_Datafiles/aniso_magic/', file_name='dike_anisotropy.txt')"
   ]
  },
  {
   "cell_type": "code",
   "execution_count": null,
   "metadata": {
    "collapsed": false,
    "scrolled": false
   },
   "outputs": [],
   "source": [
    "aniso_data = pd.read_csv('./PmagPy_Datafiles/ani_depthplot/rmag_anisotropy.txt',delimiter='\\t',skiprows=1)\n",
    "aniso_data.head()"
   ]
  },
  {
   "cell_type": "code",
   "execution_count": null,
   "metadata": {
    "collapsed": false
   },
   "outputs": [],
   "source": [
    "ipmag.aniso_depthplot(dir_path='./PmagPy_Datafiles/ani_depthplot/');"
   ]
  },
  {
   "cell_type": "markdown",
   "metadata": {},
   "source": [
    "## Working with poles"
   ]
  },
  {
   "cell_type": "markdown",
   "metadata": {},
   "source": [
    "A variety of plotting functions within PmagPy, together with the Basemap package of matplotlib, provide a great way to work with paleomagnetic poles, virtual geomagnetic poles, and polar wander paths."
   ]
  },
  {
   "cell_type": "code",
   "execution_count": null,
   "metadata": {
    "collapsed": false
   },
   "outputs": [],
   "source": [
    "# initiate figure and specify figure size\n",
    "plt.figure(figsize=(6, 6))\n",
    "\n",
    "# initiate a Basemap projection, specifying the latitude and\n",
    "# longitude (lat_0 and lon_0) at which our figure is centered.\n",
    "pmap = Basemap(projection='ortho',lat_0=30,lon_0=320,\n",
    "               resolution='c',area_thresh=50000)\n",
    "# other optional modifications to the globe figure\n",
    "pmap.drawcoastlines(linewidth=0.25)\n",
    "pmap.fillcontinents(color='bisque',lake_color='white',zorder=1)\n",
    "pmap.drawmapboundary(fill_color='white')\n",
    "pmap.drawmeridians(np.arange(0,360,30))\n",
    "pmap.drawparallels(np.arange(-90,90,30))\n",
    "\n",
    "\n",
    "# Here we plot a pole at 340 E longitude, 30 N latitude with an\n",
    "# alpha 95 error angle of 5 degrees. Keyword arguments allow us\n",
    "# to specify the label, shape, and color of this data.\n",
    "ipmag.plot_pole(pmap,340,30,5,label='VGP examples',\n",
    "               marker='s',color='Blue')\n",
    "\n",
    "# We can plot multiple poles sequentially on the same globe using\n",
    "# the same plot_pole function.\n",
    "ipmag.plot_pole(pmap,290,-3,9,marker='s',color='Blue')\n",
    "\n",
    "plt.legend()\n",
    "# Optional save (uncomment to save the figure)\n",
    "#plt.savefig('Code_output/VGP_example.pdf')\n",
    "plt.show()"
   ]
  },
  {
   "cell_type": "markdown",
   "metadata": {},
   "source": [
    "The capability to plot multiple poles in sequence provides a good way to analyze polar wander paths. Here we use the Phanerozoic APWP of Laurentia *(Torsvik, 2012)* to demonstrate the plot_pole_colorbar function.\n",
    "\n",
    "We first upload the Torsvik (2012) data using the pandas function *read_csv*. "
   ]
  },
  {
   "cell_type": "code",
   "execution_count": null,
   "metadata": {
    "collapsed": false
   },
   "outputs": [],
   "source": [
    "Laurentia_Pole_Compilation = pd.read_csv('./Torsvik2012/Laurentia_Pole_Compilation.csv')\n",
    "Laurentia_Pole_Compilation.head()"
   ]
  },
  {
   "cell_type": "code",
   "execution_count": null,
   "metadata": {
    "collapsed": false
   },
   "outputs": [],
   "source": [
    "# initiate the figure as in the plot_pole example\n",
    "plt.figure(figsize=(8, 8))\n",
    "pmap = Basemap(projection='ortho',lat_0=10,lon_0=320,\n",
    "               resolution='c',area_thresh=50000)\n",
    "pmap.drawcoastlines(linewidth=0.25)\n",
    "pmap.fillcontinents(color='bisque',lake_color='white',zorder=1)\n",
    "pmap.drawmapboundary(fill_color='white')\n",
    "pmap.drawmeridians(np.arange(0,360,30))\n",
    "pmap.drawparallels(np.arange(-90,90,30))\n",
    "\n",
    "# Loop through the uploaded data and use the plot_pole_colorbar function\n",
    "# (instead of plot_pole) to plot the individual poles. The input of this\n",
    "# function is very similar to that of plot_pole but has the additional\n",
    "# arguments of (1)AGE, (2)MINIMUM AND (3)MAXIMUM AGES OF PLOTTED POLES.\n",
    "# Note that the ages are treated as negative numbers -- this just determines\n",
    "# the direction of the colorbar.\n",
    "for n in xrange (0, len(Laurentia_Pole_Compilation)):\n",
    "     m = ipmag.plot_pole_colorbar(pmap, Laurentia_Pole_Compilation['CLon'][n],\n",
    "                                  Laurentia_Pole_Compilation['CLat'][n],\n",
    "                                  Laurentia_Pole_Compilation['A95'][n],\n",
    "                                  -Laurentia_Pole_Compilation['Age'][n],\n",
    "                                  -532,\n",
    "                                  -300,\n",
    "                                  markersize=80, color=\"k\", alpha=1)\n",
    "\n",
    "pmap.colorbar(m,location='bottom',pad=\"5%\",label='Age of magnetization (Ma)')\n",
    "\n",
    "# Optional save (uncomment to save the figure)\n",
    "#plt.savefig('Notebook_Output/plot_pole_colorbar_example.pdf')\n",
    "\n",
    "plt.show()"
   ]
  },
  {
   "cell_type": "code",
   "execution_count": null,
   "metadata": {
    "collapsed": false
   },
   "outputs": [],
   "source": [
    "def dmag_magic(path_to_file = '.', file_name = 'magic_measurements.txt', \n",
    "               save = False, save_folder = '.', fmt='svg', obj='loc', \n",
    "               treat=None, XLP = \"\", normalize = False):\n",
    "    \"\"\"\n",
    "    NAME\n",
    "        dmag_magic.py\n",
    "\n",
    "    DESCRIPTION\n",
    "       plots intensity decay curves for demagnetization experiments\n",
    "\n",
    "    SYNTAX \n",
    "        dmag_magic -h [command line options]\n",
    "    \n",
    "    INPUT \n",
    "       takes magic formatted magic_measurements.txt files\n",
    "    \n",
    "    OPTIONS\n",
    "        -h prints help message and quits\n",
    "        -f FILE: specify input file, default is: magic_measurements.txt\n",
    "        -obj OBJ: specify  object  [loc, sit, sam, spc] for plot, default is by location\n",
    "        -LT [AF,T,M]: specify lab treatment type, default AF\n",
    "        -XLP [PI]: exclude specific  lab protocols (for example, method codes like LP-PI)\n",
    "        -N do not normalize by NRM magnetization\n",
    "        -sav save plots silently and quit\n",
    "    NOTE\n",
    "        loc: location (study); sit: site; sam: sample; spc: specimen\n",
    "    \"\"\"\n",
    "    try:\n",
    "        from IPython.display import clear_output\n",
    "    except:\n",
    "        pass\n",
    "    FIG={} # plot dictionary\n",
    "    FIG['demag']=1 # demag is figure 1\n",
    "    in_file,plot_key,LT=os.path.join(path_to_file, file_name),'er_location_name',\"LT-AF-Z\"\n",
    "#     XLP=\"\"\n",
    "    norm=1\n",
    "    LT='LT-AF-Z'\n",
    "    units,dmag_key='T','treatment_ac_field'\n",
    "    plot_key='er_location_name'\n",
    "    plot_num=0\n",
    "#     if '-h' in sys.argv:\n",
    "#         print main.__doc__\n",
    "#         sys.exit()\n",
    "    if normalize==True:\n",
    "        norm=0\n",
    "    if save == True:\n",
    "        plot_num=1\n",
    "#     if '-f' in sys.argv:\n",
    "#         ind=sys.argv.index(\"-f\")\n",
    "#         in_file=sys.argv[ind+1]\n",
    "    plot_by=obj\n",
    "    if plot_by=='sit':plot_key='er_site_name'\n",
    "    if plot_by=='sam':plot_key='er_sample_name'\n",
    "    if plot_by=='spc':plot_key='er_specimen_name'\n",
    "#     if '-XLP' in sys.argv:\n",
    "#         ind=sys.argv.index(\"-XLP\")\n",
    "#         XLP=sys.argv[ind+1] # get lab protocol for excluding\n",
    "    if treat != None:\n",
    "        #ind=sys.argv.index(\"-LT\")\n",
    "        LT='LT-'+treat+'-Z' # get lab treatment for plotting\n",
    "        if  LT=='LT-T-Z':\n",
    "            units,dmag_key='K','treatment_temp'\n",
    "        elif  LT=='LT-AF-Z':\n",
    "            units,dmag_key='T','treatment_ac_field'\n",
    "        elif  LT=='LT-M-Z':\n",
    "            units,dmag_key='J','treatment_mw_energy'\n",
    "        else:\n",
    "            units='U'\n",
    "    plot_dict = {}\n",
    "    data,file_type=pmag.magic_read(in_file)\n",
    "    sids=pmag.get_specs(data)\n",
    "#     pmagplotlib.plot_init(FIG['demag'],5,5)\n",
    "    plt.figure(num=FIG['demag'],figsize=(5,5))\n",
    "    print len(data),' records read from ',in_file\n",
    "    #\n",
    "    #\n",
    "    # find desired intensity data\n",
    "    #\n",
    "    # get plotlist\n",
    "    #\n",
    "    plotlist,intlist=[],['measurement_magnitude','measurement_magn_moment','measurement_magn_volume','measurement_magn_mass']\n",
    "    IntMeths=[]\n",
    "    FixData=[]\n",
    "    for rec in data:\n",
    "        meths=[]\n",
    "        methcodes=rec['magic_method_codes'].split(':')\n",
    "        for meth in methcodes:meths.append(meth.strip())\n",
    "        for key in rec.keys():\n",
    "            if key in intlist and rec[key]!=\"\":\n",
    "                if key not in IntMeths:IntMeths.append(key)\n",
    "                if rec[plot_key] not in plotlist and LT in meths: plotlist.append(rec[plot_key])\n",
    "                if 'measurement_flag' not in rec.keys():rec['measurement_flag']='g'\n",
    "                FixData.append(rec)\n",
    "        plotlist.sort()\n",
    "    if len(IntMeths)==0:\n",
    "        print 'No intensity information found'\n",
    "        return\n",
    "    data=FixData\n",
    "    int_key=IntMeths[0] # plot first intensity method found - normalized to initial value anyway - doesn't matter which used\n",
    "    print meths\n",
    "    for plot in plotlist:\n",
    "        if plot_num==0:\n",
    "            clear_output(wait=True)\n",
    "            print plot,'plotting by: ',plot_key\n",
    "        PLTblock=pmag.get_dictitem(data,plot_key,plot,'T') # fish out all the data for this type of plot\n",
    "        PLTblock=pmag.get_dictitem(PLTblock,'magic_method_codes',LT,'has') # fish out all the dmag for this experiment type\n",
    "        PLTblock=pmag.get_dictitem(PLTblock,int_key,'','F') # get all with this intensity key non-blank\n",
    "        if XLP!=\"\":PLTblock=pmag.get_dictitem(PLTblock,'magic_method_codes',XLP,'not') # reject data with XLP in method_code\n",
    "        if len(PLTblock)>2:\n",
    "            title=PLTblock[0][plot_key]\n",
    "            spcs=[]\n",
    "            for rec in PLTblock:\n",
    "                if rec['er_specimen_name'] not in spcs:spcs.append(rec['er_specimen_name'])\n",
    "            for spc in spcs:\n",
    "                SPCblock=pmag.get_dictitem(PLTblock,'er_specimen_name',spc,'T') # plot specimen by specimen\n",
    "                INTblock=[]\n",
    "                for rec in SPCblock:\n",
    "                    INTblock.append([float(rec[dmag_key]),0,0,float(rec[int_key]),1,rec['measurement_flag']])\n",
    "                if len(INTblock)>2:\n",
    "                    ipmagplotlib.plotMT(FIG['demag'],INTblock,title,0,units,norm)\n",
    "        plot_dict[title] = pmagplotlib.drawFIGS(FIG)\n",
    "        ipmagplotlib.clearFIG(FIG['demag'])\n",
    "#             if plot_num==1:\n",
    "#                 files={}\n",
    "#                 for key in FIG.keys():\n",
    "#                     files[key]=title+'_'+LT+'.svg' \n",
    "#                 ipmagplotlib.saveP(FIG,files) \n",
    "#             else:\n",
    "#                 pmagplotlib.drawFIGS(FIG)\n",
    "    while True:\n",
    "        print plot_dict.keys()\n",
    "        plot_ind = raw_input(\"Type demag plot you wish to see: \")\n",
    "        plot_dict[plot_ind]\n",
    "        plt.show()\n",
    "        cont = raw_input(\"Continue? Type [q] to quit\")\n",
    "        if cont=='q':\n",
    "            return\n",
    "#                 plt.show()\n",
    "#                 ans=raw_input(\" S[a]ve to save plot, [q]uit,  Return to continue:  \")\n",
    "#                 if ans=='q':sys.exit()\n",
    "#                 if ans==\"a\": \n",
    "#                     files={}\n",
    "#                     for key in FIG.keys():\n",
    "#                         files[key]=title+'_'+LT+'.svg' \n",
    "#                     ipmagplotlib.saveP(FIG,files) \n",
    "#             ipmagplotlib.clearFIG(FIG['demag'])"
   ]
  },
  {
   "cell_type": "code",
   "execution_count": null,
   "metadata": {
    "collapsed": false,
    "scrolled": true
   },
   "outputs": [],
   "source": [
    "dmag_magic(path_to_file='./Swanson-Hysell2014/', obj='sit', treat='AF')"
   ]
  },
  {
   "cell_type": "markdown",
   "metadata": {},
   "source": [
    "## Susceptibility vs. temperature, applied field and frequency"
   ]
  },
  {
   "cell_type": "markdown",
   "metadata": {},
   "source": [
    "This example makes use of the PmagPy function **chi_magic.py**."
   ]
  },
  {
   "cell_type": "code",
   "execution_count": null,
   "metadata": {
    "collapsed": false
   },
   "outputs": [],
   "source": [
    "ipmag.chi_magic(path_to_file='./PmagPy_Datafiles/chi_magic/',\n",
    "          file_name='chi_magic_example.dat', save=True, \n",
    "          save_folder='Notebook_Output')"
   ]
  },
  {
   "cell_type": "markdown",
   "metadata": {},
   "source": [
    "## Curie temperature data"
   ]
  },
  {
   "cell_type": "code",
   "execution_count": null,
   "metadata": {
    "collapsed": false
   },
   "outputs": [],
   "source": [
    "ipmag.curie(path_to_file='./PmagPy_Datafiles/curie/',file_name='curie_example.dat', save=True, save_folder='Notebook_Output')"
   ]
  },
  {
   "cell_type": "markdown",
   "metadata": {},
   "source": [
    "## Day plots"
   ]
  },
  {
   "cell_type": "markdown",
   "metadata": {},
   "source": [
    "Demonstration of Day plots, squareness/coercivity and squareness/coercivity of remanence diagrams using hysteresis data."
   ]
  },
  {
   "cell_type": "code",
   "execution_count": null,
   "metadata": {
    "collapsed": false
   },
   "outputs": [],
   "source": [
    "ipmag.dayplot(path_to_file='./PmagPy_Datafiles/dayplot_magic/', \n",
    "              hyst_file='dayplot_magic_example.dat',\n",
    "              save=True,save_folder='Notebook_Output/');"
   ]
  },
  {
   "cell_type": "markdown",
   "metadata": {},
   "source": [
    "## Hysteresis Loops"
   ]
  },
  {
   "cell_type": "code",
   "execution_count": null,
   "metadata": {
    "collapsed": false
   },
   "outputs": [],
   "source": [
    "def hysteresis_magic(path_to_file = '.',hyst_file=\"rmag_hysteresis.txt\", \n",
    "                     save = False, save_folder = '.', fmt = \"svg\"):\n",
    "    \"\"\"\n",
    "    Calculates hysteresis parameters, saves them in rmag_hysteresis format file,\n",
    "    and makes hysteresis plots if option selected.\n",
    "    \n",
    "    Optional Keywords (defaults are used if not specified)\n",
    "    ----------\n",
    "    path_to_file : path to directory that contains files (default is current directory, '.')\n",
    "    hyst_file : hysteresis file (default is 'rmag_hysteresis.txt')\n",
    "    save : boolean argument to save plots (default is False)\n",
    "    save_folder : relative directory where plots will be saved (default is current directory, '.')\n",
    "    fmt : format of saved figures (default is 'pdf')\n",
    "    \"\"\"\n",
    "    args=sys.argv\n",
    "    PLT=1\n",
    "    plots=0\n",
    "    user,meas_file,rmag_out,rmag_file=\"\",\"agm_measurements.txt\",\"rmag_hysteresis.txt\",\"\"\n",
    "    pltspec=\"\"\n",
    "    dir_path='.'\n",
    "    verbose=pmagplotlib.verbose\n",
    "    version_num=pmag.get_version()\n",
    "    rmag_out=dir_path+'/'+rmag_out\n",
    "    meas_file=path_to_file+'/'+hyst_file\n",
    "    rmag_rem=dir_path+\"/rmag_remanence.txt\"\n",
    "    #\n",
    "    #\n",
    "    meas_data,file_type=pmag.magic_read(meas_file)\n",
    "    if file_type!='magic_measurements':\n",
    "        print hysteresis_magic.__doc__\n",
    "        print 'bad file'\n",
    "        sys.exit()\n",
    "    #\n",
    "    # initialize some variables\n",
    "    # define figure numbers for hyst,deltaM,DdeltaM curves\n",
    "    HystRecs,RemRecs=[],[]\n",
    "    HDD={}\n",
    "    if verbose:\n",
    "        if verbose and PLT:print \"Plots may be on top of each other - use mouse to place \"\n",
    "    if PLT:\n",
    "        HDD['hyst'],HDD['deltaM'],HDD['DdeltaM']=1,2,3\n",
    "        plt.figure(num=HDD['DdeltaM'],figsize=(5,5))\n",
    "        plt.figure(num=HDD['deltaM'],figsize=(5,5))\n",
    "        plt.figure(num=HDD['hyst'],figsize=(5,5))\n",
    "        imag_init=0\n",
    "        irm_init=0\n",
    "    else:\n",
    "        HDD['hyst'],HDD['deltaM'],HDD['DdeltaM'],HDD['irm'],HDD['imag']=0,0,0,0,0\n",
    "    #\n",
    "    if rmag_file!=\"\":hyst_data,file_type=pmag.magic_read(rmag_file)\n",
    "    #\n",
    "    # get list of unique experiment names and specimen names\n",
    "    #\n",
    "    experiment_names,sids=[],[]\n",
    "    for rec in meas_data: \n",
    "        meths=rec['magic_method_codes'].split(':')\n",
    "        methods=[]\n",
    "        for meth in meths:\n",
    "            methods.append(meth.strip())\n",
    "        if 'LP-HYS' in methods:\n",
    "            if 'er_synthetic_name' in rec.keys() and rec['er_synthetic_name']!=\"\":\n",
    "                rec['er_specimen_name']=rec['er_synthetic_name']\n",
    "            if rec['magic_experiment_name'] not in experiment_names:experiment_names.append(rec['magic_experiment_name'])\n",
    "            if rec['er_specimen_name'] not in sids:sids.append(rec['er_specimen_name'])\n",
    "    #\n",
    "    k=0\n",
    "    locname=''\n",
    "    if pltspec!=\"\":\n",
    "        k=sids.index(pltspec)\n",
    "        print sids[k]\n",
    "    while k < len(sids):\n",
    "        s=sids[k]\n",
    "        if verbose and PLT:print s, k+1 , 'out of ',len(sids)\n",
    "    #\n",
    "    #\n",
    "        B,M,Bdcd,Mdcd=[],[],[],[] #B,M for hysteresis, Bdcd,Mdcd for irm-dcd data\n",
    "        Bimag,Mimag=[],[] #Bimag,Mimag for initial magnetization curves\n",
    "        first_dcd_rec,first_rec,first_imag_rec=1,1,1\n",
    "        for rec in  meas_data:\n",
    "            methcodes=rec['magic_method_codes'].split(':')\n",
    "            meths=[]\n",
    "            for meth in methcodes:\n",
    "                meths.append(meth.strip()) \n",
    "            if rec['er_specimen_name']==s and \"LP-HYS\" in meths:\n",
    "                B.append(float(rec['measurement_lab_field_dc']))\n",
    "                M.append(float(rec['measurement_magn_moment']))\n",
    "                if first_rec==1:\n",
    "                    e=rec['magic_experiment_name']\n",
    "                    HystRec={}\n",
    "                    first_rec=0\n",
    "                    if \"er_location_name\" in rec.keys():\n",
    "                        HystRec[\"er_location_name\"]=rec[\"er_location_name\"]\n",
    "                        locname=rec['er_location_name'].replace('/','-')\n",
    "                    if \"er_sample_name\" in rec.keys():HystRec[\"er_sample_name\"]=rec[\"er_sample_name\"]\n",
    "                    if \"er_site_name\" in rec.keys():HystRec[\"er_site_name\"]=rec[\"er_site_name\"]\n",
    "                    if \"er_synthetic_name\" in rec.keys() and rec['er_synthetic_name']!=\"\":\n",
    "                        HystRec[\"er_synthetic_name\"]=rec[\"er_synthetic_name\"]\n",
    "                    else:\n",
    "                        HystRec[\"er_specimen_name\"]=rec[\"er_specimen_name\"]\n",
    "            if rec['er_specimen_name']==s and \"LP-IRM-DCD\" in meths:\n",
    "                Bdcd.append(float(rec['treatment_dc_field']))\n",
    "                Mdcd.append(float(rec['measurement_magn_moment']))\n",
    "                if first_dcd_rec==1:\n",
    "                    RemRec={}\n",
    "                    irm_exp=rec['magic_experiment_name']\n",
    "                    first_dcd_rec=0\n",
    "                    if \"er_location_name\" in rec.keys():RemRec[\"er_location_name\"]=rec[\"er_location_name\"]\n",
    "                    if \"er_sample_name\" in rec.keys():RemRec[\"er_sample_name\"]=rec[\"er_sample_name\"]\n",
    "                    if \"er_site_name\" in rec.keys():RemRec[\"er_site_name\"]=rec[\"er_site_name\"]\n",
    "                    if \"er_synthetic_name\" in rec.keys() and rec['er_synthetic_name']!=\"\":\n",
    "                        RemRec[\"er_synthetic_name\"]=rec[\"er_synthetic_name\"]\n",
    "                    else:\n",
    "                        RemRec[\"er_specimen_name\"]=rec[\"er_specimen_name\"]\n",
    "            if rec['er_specimen_name']==s and \"LP-IMAG\" in meths:\n",
    "                if first_imag_rec==1:\n",
    "                    imag_exp=rec['magic_experiment_name']\n",
    "                    first_imag_rec=0\n",
    "                Bimag.append(float(rec['measurement_lab_field_dc']))\n",
    "                Mimag.append(float(rec['measurement_magn_moment']))\n",
    "    #\n",
    "    # now plot the hysteresis curve\n",
    "    #\n",
    "        if len(B)>0: \n",
    "            hmeths=[]\n",
    "            for meth in meths: hmeths.append(meth)  \n",
    "            hpars=pmagplotlib.plotHDD(HDD,B,M,e) \n",
    "            if verbose and PLT:pmagplotlib.drawFIGS(HDD)\n",
    "    #\n",
    "    # get prior interpretations from hyst_data\n",
    "            if rmag_file!=\"\":\n",
    "                hpars_prior={}\n",
    "                for rec in hyst_data:\n",
    "                    if rec['magic_experiment_names']==e:\n",
    "                        if rec['hysteresis_bcr'] !=\"\" and rec['hysteresis_mr_moment']!=\"\": \n",
    "                            hpars_prior['hysteresis_mr_moment']=rec['hysteresis_mr_moment']\n",
    "                            hpars_prior['hysteresis_ms_moment']=rec['hysteresis_ms_moment']\n",
    "                            hpars_prior['hysteresis_bc']=rec['hysteresis_bc']\n",
    "                            hpars_prior['hysteresis_bcr']=rec['hysteresis_bcr']\n",
    "                            break\n",
    "                if verbose:pmagplotlib.plotHPARS(HDD,hpars_prior,'ro')\n",
    "            else:\n",
    "                if verbose:pmagplotlib.plotHPARS(HDD,hpars,'bs')\n",
    "                HystRec['hysteresis_mr_moment']=hpars['hysteresis_mr_moment']\n",
    "                HystRec['hysteresis_ms_moment']=hpars['hysteresis_ms_moment']\n",
    "                HystRec['hysteresis_bc']=hpars['hysteresis_bc']\n",
    "                HystRec['hysteresis_bcr']=hpars['hysteresis_bcr']\n",
    "                HystRec['hysteresis_xhf']=hpars['hysteresis_xhf']\n",
    "                HystRec['magic_experiment_names']=e\n",
    "                HystRec['magic_software_packages']=version_num\n",
    "                if hpars[\"magic_method_codes\"] not in hmeths:hmeths.append(hpars[\"magic_method_codes\"])\n",
    "                methods=\"\"\n",
    "                for meth in hmeths:\n",
    "                    methods=methods+meth.strip()+\":\"\n",
    "                HystRec[\"magic_method_codes\"]=methods[:-1]\n",
    "                HystRec[\"er_citation_names\"]=\"This study\"\n",
    "                HystRecs.append(HystRec)\n",
    "    #\n",
    "        if len(Bdcd)>0: \n",
    "            rmeths=[]\n",
    "            for meth in meths: rmeths.append(meth)\n",
    "            if verbose and PLT:print 'plotting IRM'\n",
    "            if irm_init==0:\n",
    "                HDD['irm']=5\n",
    "                plt.figure(num=HDD['irm'],figsize=(5,5))\n",
    "                irm_init=1\n",
    "            rpars=pmagplotlib.plotIRM(HDD['irm'],Bdcd,Mdcd,irm_exp) \n",
    "            RemRec['remanence_mr_moment']=rpars['remanence_mr_moment']\n",
    "            RemRec['remanence_bcr']=rpars['remanence_bcr']\n",
    "            RemRec['magic_experiment_names']=irm_exp\n",
    "            if rpars[\"magic_method_codes\"] not in meths:meths.append(rpars[\"magic_method_codes\"])\n",
    "            methods=\"\"\n",
    "            for meth in rmeths:\n",
    "                methods=methods+meth.strip()+\":\"\n",
    "            RemRec[\"magic_method_codes\"]=methods[:-1]\n",
    "            RemRec[\"er_citation_names\"]=\"This study\"\n",
    "            RemRecs.append(RemRec)\n",
    "        else: \n",
    "            if irm_init:pmagplotlib.clearFIG(HDD['irm'])\n",
    "        if len(Bimag)>0: \n",
    "            if verbose:print 'plotting initial magnetization curve'\n",
    "# first normalize by Ms\n",
    "            Mnorm=[]\n",
    "            for m in Mimag: Mnorm.append(m/float(hpars['hysteresis_ms_moment']))\n",
    "            if imag_init==0:\n",
    "                HDD['imag']=4\n",
    "                plt.figure(num=HDD['imag'],figsize=(5,5))\n",
    "                imag_init=1\n",
    "            pmagplotlib.plotIMAG(HDD['imag'],Bimag,Mnorm,imag_exp) \n",
    "        else: \n",
    "            if imag_init:pmagplotlib.clearFIG(HDD['imag'])\n",
    "    #\n",
    "        files={}\n",
    "        if plots:\n",
    "            if pltspec!=\"\":s=pltspec\n",
    "            files={}\n",
    "            for key in HDD.keys():\n",
    "                files[key]=locname+'_'+s+'_'+key+'.'+fmt\n",
    "            pmagplotlib.saveP(HDD,files)\n",
    "            if pltspec!=\"\":sys.exit()\n",
    "#         if verbose and PLT:\n",
    "#             pmagplotlib.drawFIGS(HDD)\n",
    "#             ans=raw_input(\"S[a]ve plots, [s]pecimen name, [q]uit, <return> to continue\\n \")\n",
    "#             if ans==\"a\":\n",
    "#                 files={}\n",
    "#                 for key in HDD.keys():\n",
    "#                     files[key]=locname+'_'+s+'_'+key+'.'+fmt\n",
    "#                 pmagplotlib.saveP(HDD,files)\n",
    "#             if ans=='':k+=1\n",
    "#             if ans==\"p\":\n",
    "#                 del HystRecs[-1]\n",
    "#                 k-=1\n",
    "#             if  ans=='q': \n",
    "#                 print \"Good bye\"\n",
    "#                 sys.exit()\n",
    "#             if ans=='s':\n",
    "#                 keepon=1\n",
    "#                 specimen=raw_input('Enter desired specimen name (or first part there of): ')\n",
    "#                 while keepon==1:\n",
    "#                     try:\n",
    "#                         k =sids.index(specimen)\n",
    "#                         keepon=0\n",
    "#                     except:\n",
    "#                         tmplist=[]\n",
    "#                         for qq in range(len(sids)):\n",
    "#                             if specimen in sids[qq]:tmplist.append(sids[qq])\n",
    "#                         print specimen,\" not found, but this was: \"\n",
    "#                         print tmplist\n",
    "#                         specimen=raw_input('Select one or try again\\n ')\n",
    "#                         k =sids.index(specimen)\n",
    "        else:\n",
    "            k+=1\n",
    "        if len(B)==0 and len(Bdcd)==0:\n",
    "            if verbose:print 'skipping this one - no hysteresis data'\n",
    "            k+=1\n",
    "    if rmag_out==\"\" and ans=='s' and verbose:\n",
    "        really=raw_input(\" Do you want to overwrite the existing rmag_hystersis.txt file? 1/[0] \")\n",
    "        if really==\"\":\n",
    "            print 'i thought not - goodbye'\n",
    "            sys.exit()\n",
    "        rmag_out=\"rmag_hysteresis.txt\"\n",
    "    if len(HystRecs)>0 and verbose:\n",
    "        pmag.magic_write(rmag_out,HystRecs,\"rmag_hysteresis\")\n",
    "        print \"hysteresis parameters saved in \",rmag_out\n",
    "    if len(RemRecs)>0 and verbose:\n",
    "        pmag.magic_write(rmag_rem,RemRecs,\"rmag_remanence\")\n",
    "        print \"remanence parameters saved in \",rmag_rem\n",
    "        \n",
    "        \n",
    "# fignum = 1\n",
    "# fig = plt.figure(figsize=(9,3))\n",
    "# fig = plt.subplot(1,3,1)\n",
    "\n",
    "# minimum = int(0.025*len(X1))\n",
    "# maximum = int(0.975*len(X1))\n",
    "\n",
    "# X1,y=ipmagplotlib.plotCDF(fignum,X1,\"X component\",'r',\"\")\n",
    "# bounds1=[X1[minimum],X1[maximum]]\n",
    "# ipmagplotlib.plotVs(fignum,bounds1,'r','-')\n",
    "\n",
    "# X2,y=ipmagplotlib.plotCDF(fignum,X2,\"X component\",'b',\"\")\n",
    "# bounds2=[X2[minimum],X2[maximum]]\n",
    "# ipmagplotlib.plotVs(fignum,bounds2,'b','--')\n",
    "# plt.ylim(0,1)\n",
    "\n",
    "# plt.subplot(1,3,2)\n",
    "\n",
    "# Y1,y=ipmagplotlib.plotCDF(fignum,Y1,\"Y component\",'r',\"\")\n",
    "# bounds1=[Y1[minimum],Y1[maximum]]\n",
    "# ipmagplotlib.plotVs(fignum,bounds1,'r','-')\n",
    "\n",
    "# Y2,y=ipmagplotlib.plotCDF(fignum,Y2,\"Y component\",'b',\"\")\n",
    "# bounds2=[Y2[minimum],Y2[maximum]]\n",
    "# ipmagplotlib.plotVs(fignum,bounds2,'b','--')\n",
    "# plt.ylim(0,1)\n",
    "\n",
    "# plt.subplot(1,3,3)\n",
    "\n",
    "# Z1,y=ipmagplotlib.plotCDF(fignum,Z1,\"Z component\",'r',\"\")\n",
    "# bounds1=[Z1[minimum],Z1[maximum]]\n",
    "# ipmagplotlib.plotVs(fignum,bounds1,'r','-')\n",
    "\n",
    "# Z2,y=ipmagplotlib.plotCDF(fignum,Z2,\"Z component\",'b',\"\")\n",
    "# bounds2=[Z2[minimum],Z2[maximum]]\n",
    "# ipmagplotlib.plotVs(fignum,bounds2,'b','--')\n",
    "# plt.ylim(0,1)\n",
    "\n",
    "# plt.tight_layout()\n",
    "# plt.show()"
   ]
  },
  {
   "cell_type": "code",
   "execution_count": null,
   "metadata": {
    "collapsed": false
   },
   "outputs": [],
   "source": [
    "hysteresis_magic(path_to_file='./PmagPy_Datafiles/hysteresis_magic/',hyst_file='hysteresis_magic_example.dat')"
   ]
  },
  {
   "cell_type": "markdown",
   "metadata": {},
   "source": [
    "## Interactive plotting"
   ]
  },
  {
   "cell_type": "markdown",
   "metadata": {},
   "source": [
    "IPy Widgets are part of what makes the Jupyter notebook environment so powerful -- these widgets allow user interaction with figures. We first demonstrate the use of the **interact** widget, imported below.\n",
    "\n",
    "*Note: If you do not have the ipywidgets package installed, you may choose to either install it through Anaconda or Enthought (depending on your Python distribution), manually install it (a bit more difficult), or simply skip the next few blocks of code.*"
   ]
  },
  {
   "cell_type": "code",
   "execution_count": null,
   "metadata": {
    "collapsed": true
   },
   "outputs": [],
   "source": [
    "from ipywidgets import interact"
   ]
  },
  {
   "cell_type": "markdown",
   "metadata": {},
   "source": [
    "The **interact** widget allows adjustable values (within specified bounds) to all keyword arguments of a function. It can be used as a wrapper function, as seen below. Here we create a new function, **squish_interactive**, which streamlines the **ipmag.squish** function and automatically inputs the fisher-distributed directions created at the beginning of the notebook. This new function also allows us to reduce the keyword arguments to the *factor* variable, which is the only value we want to be actively adjustable. Finally, to make the **squish_interactive** function interactive in the notebook, we \"wrap\" this function with **@interact** placed directly above our new function."
   ]
  },
  {
   "cell_type": "code",
   "execution_count": null,
   "metadata": {
    "collapsed": false
   },
   "outputs": [],
   "source": [
    "@interact\n",
    "def squish_interactive(factor=(0.,1.,.05)):\n",
    "    squished_incs = []\n",
    "    for inclination in inclinations:\n",
    "        squished_incs.append(ipmag.squish(factor, inclination))\n",
    "\n",
    "    # plot the squished directional data\n",
    "    plt.figure(num=1,figsize=(6,6))\n",
    "    ipmag.plot_net(1)\n",
    "    ipmag.plot_di(declinations,squished_incs)"
   ]
  },
  {
   "cell_type": "markdown",
   "metadata": {},
   "source": [
    "**interact** can also be used as a regular function call -- the name of the interactive function is passed as the first argument, followed by the adjustable keyword arguments. Below, we demonstrate passing the *curie* function's parameters to **interact**. "
   ]
  },
  {
   "cell_type": "code",
   "execution_count": null,
   "metadata": {
    "collapsed": false
   },
   "outputs": [],
   "source": [
    "interact(ipmag.curie, path_to_file='./PmagPy_Datafiles/curie/',file_name='curie_example.dat',window_length = (1,60));"
   ]
  }
 ],
 "metadata": {
  "kernelspec": {
   "display_name": "Python 2",
   "language": "python",
   "name": "python2"
  },
  "language_info": {
   "codemirror_mode": {
    "name": "ipython",
    "version": 2
   },
   "file_extension": ".py",
   "mimetype": "text/x-python",
   "name": "python",
   "nbconvert_exporter": "python",
   "pygments_lexer": "ipython2",
   "version": "2.7.11"
  }
 },
 "nbformat": 4,
 "nbformat_minor": 0
}
